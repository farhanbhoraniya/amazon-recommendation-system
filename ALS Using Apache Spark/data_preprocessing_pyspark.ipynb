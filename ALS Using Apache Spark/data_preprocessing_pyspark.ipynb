{
 "cells": [
  {
   "cell_type": "markdown",
   "metadata": {},
   "source": [
    "# Data Preprocessing using pyspark and sparksql\n",
    "In this file we have loaded dataset from Amazon Product Review Dataset for the Category, Musical Instruments. The source file is in JSON format. The dataset contails data from 1996 till 2019."
   ]
  },
  {
   "cell_type": "code",
   "execution_count": 2,
   "metadata": {},
   "outputs": [],
   "source": [
    "import findspark\n",
    "findspark.init()\n",
    "import pyspark\n",
    "import os\n",
    "import numpy as np\n",
    "from pyspark.sql import SparkSession\n",
    "from pyspark import SparkContext\n",
    "from pyspark.sql import SQLContext\n",
    "import json"
   ]
  },
  {
   "cell_type": "code",
   "execution_count": 3,
   "metadata": {},
   "outputs": [],
   "source": [
    "spark = SparkSession \\\n",
    "    .builder \\\n",
    "    .appName(\"Recommendation_System\") \\\n",
    "    .getOrCreate()"
   ]
  },
  {
   "cell_type": "code",
   "execution_count": 4,
   "metadata": {},
   "outputs": [
    {
     "data": {
      "text/plain": [
       "8"
      ]
     },
     "execution_count": 4,
     "metadata": {},
     "output_type": "execute_result"
    }
   ],
   "source": [
    "sc = spark.sparkContext\n",
    "# Default Partitions\n",
    "sc.defaultParallelism"
   ]
  },
  {
   "cell_type": "code",
   "execution_count": 6,
   "metadata": {},
   "outputs": [],
   "source": [
    "sqlContext = SQLContext(sc)"
   ]
  },
  {
   "cell_type": "code",
   "execution_count": 7,
   "metadata": {},
   "outputs": [
    {
     "name": "stdout",
     "output_type": "stream",
     "text": [
      "+--------------+--------------------+-------+\n",
      "|      col_name|           data_type|comment|\n",
      "+--------------+--------------------+-------+\n",
      "|          asin|              string|   null|\n",
      "|         image|       array<string>|   null|\n",
      "|       overall|              double|   null|\n",
      "|    reviewText|              string|   null|\n",
      "|    reviewTime|              string|   null|\n",
      "|    reviewerID|              string|   null|\n",
      "|  reviewerName|              string|   null|\n",
      "|         style|struct<Color Name...|   null|\n",
      "|       summary|              string|   null|\n",
      "|unixReviewTime|              bigint|   null|\n",
      "|      verified|             boolean|   null|\n",
      "|          vote|              string|   null|\n",
      "+--------------+--------------------+-------+\n",
      "\n"
     ]
    }
   ],
   "source": [
    "#loding data from json file and saving as a table\n",
    "sqlContext.read.json('Musical_Instruments.json').createOrReplaceTempView(\"Temp_table\")\n",
    "#verifying table structure of Temp_table\n",
    "spark.sql(\"desc Temp_table\").show()"
   ]
  },
  {
   "cell_type": "code",
   "execution_count": 8,
   "metadata": {},
   "outputs": [
    {
     "name": "stdout",
     "output_type": "stream",
     "text": [
      "+----------+-----+-------+--------------------+-----------+--------------+-------------------+--------------------+--------------------+--------------+--------+----+\n",
      "|      asin|image|overall|          reviewText| reviewTime|    reviewerID|       reviewerName|               style|             summary|unixReviewTime|verified|vote|\n",
      "+----------+-----+-------+--------------------+-----------+--------------+-------------------+--------------------+--------------------+--------------+--------+----+\n",
      "|0470536454| null|    5.0|Crocheting for Du...| 08 9, 2004| AXHY24HWOF184|              Bendy|[,,,,  Paperback,...|Terrific Book for...|    1092009600|   false|  90|\n",
      "|0470536454| null|    4.0|     Very helpful...| 04 6, 2017|A29OWR79AM796H|    Amazon Customer|[,,,,  Hardcover,...|          Four Stars|    1491436800|    true|   2|\n",
      "|0470536454| null|    5.0|EASY TO UNDERSTAN...|03 14, 2017| AUPWU27A7X5F6|    Amazon Customer|[,,,,  Paperback,...|          Five Stars|    1489449600|    true|null|\n",
      "|0470536454| null|    4.0|My girlfriend use...|02 14, 2017|A1N69A47D4JO6K|Christopher Burnett|[,,,,  Paperback,...|          Four Stars|    1487030400|    true|null|\n",
      "|0470536454| null|    5.0|Arrived as descri...|01 29, 2017| AHTIQUMVCGBFJ|    Amazon Customer|[,,,,  Paperback,...|         Very happy.|    1485648000|    true|null|\n",
      "|0470536454| null|    5.0|Love the Dummies ...| 01 4, 2017|A1J8LQ7HVLR9GU|     Iheartmanatees|[,,,,  Kindle Edi...|Love the Dummies ...|    1483488000|    true|null|\n",
      "|0470536454| null|    5.0|          Good book.| 01 2, 2017| ABVTZ63S6GOWF|             D. Eva|[,,,,  Paperback,...|          Five Stars|    1483315200|    true|null|\n",
      "|0470536454| null|    4.0|Just started read...|12 21, 2016|A2HX9NFBXGSWRW|          Stoeffels|[,,,,  Paperback,...|Clear. Good remin...|    1482278400|    true|null|\n",
      "|0470536454| null|    4.0|         GREAT  book|12 20, 2016| AP1TQR64HQRCI|        nan ekelund|[,,,,  Paperback,...|          Four Stars|    1482192000|    true|null|\n",
      "|0470536454| null|    5.0|this is a very he...|12 15, 2016| A37FC9MED20AO|  Jacqueline Bryant|[,,,,  Paperback,...|          Five Stars|    1481760000|    true|null|\n",
      "|0470536454| null|    5.0|Excellent trainin...|11 22, 2016|A26EU1X4VDNT4Z| Christine Donofrio|[,,,,  Paperback,...|          Five Stars|    1479772800|    true|null|\n",
      "|0470536454| null|    3.0| Not really current.|10 23, 2016|A3II49ZWIOZF92|           lilylips|[,,,,  Paperback,...|         Three Stars|    1477180800|    true|null|\n",
      "|0470536454| null|    5.0|Excellent book Gl...|09 26, 2016|A347LQX3G500YN|    Amazon Customer|[,,,,  Paperback,...|       Great crochet|    1474848000|    true|null|\n",
      "|0470536454| null|    4.0|As described! Tha...|07 20, 2016|A2FPOGMO1CCSUQ|      Danielle Love|[,,,,  Paperback,...|          Four Stars|    1468972800|    true|null|\n",
      "|0470536454| null|    5.0| Good reference book| 07 3, 2016| AL8FRAYQS43LI|         L. Jackson|[,,,,  Paperback,...|          Five Stars|    1467504000|    true|null|\n",
      "|0470536454| null|    4.0|I have been croch...|06 25, 2016| AHVLB4P706L86|      Cheryl L Novy|[,,,,  Paperback,...| It is good for that|    1466812800|    true|null|\n",
      "|0470536454| null|    4.0|great for beginne...|06 24, 2016| AP609X3Z27XUH|      Adrienne Hand|[,,,,  Paperback,...|great for beginne...|    1466726400|    true|null|\n",
      "|0470536454| null|    3.0|I'm only giving t...|06 22, 2016|A2JG74A5GTRKYM|           Pen Name|[,,,,  Kindle Edi...|Did Not Find What...|    1466553600|   false|null|\n",
      "|0470536454| null|    5.0| great for beginners|06 10, 2016|A17B9D1PXJ3X6I|        B. J. Ladda|[,,,,  Paperback,...|          Five Stars|    1465516800|    true|null|\n",
      "|0470536454| null|    5.0|The pictures in t...| 06 1, 2016|A2C7C71PD0ZCC8|              Kholt|[,,,,  Paperback,...|      Easy to follow|    1464739200|    true|null|\n",
      "+----------+-----+-------+--------------------+-----------+--------------+-------------------+--------------------+--------------------+--------------+--------+----+\n",
      "only showing top 20 rows\n",
      "\n"
     ]
    }
   ],
   "source": [
    "#verifying data in Temp_table\n",
    "spark.sql(\"select * from Temp_table\").show()"
   ]
  },
  {
   "cell_type": "code",
   "execution_count": 22,
   "metadata": {},
   "outputs": [
    {
     "name": "stdout",
     "output_type": "stream",
     "text": [
      "+----------+---------+-------+\n",
      "|  col_name|data_type|comment|\n",
      "+----------+---------+-------+\n",
      "|      asin|   string|   null|\n",
      "|reviewerID|   string|   null|\n",
      "|   overall|      int|   null|\n",
      "|      Year|      int|   null|\n",
      "+----------+---------+-------+\n",
      "\n"
     ]
    }
   ],
   "source": [
    "#selecting required fields from Temp_Table and storing result as All_Beauty table\n",
    "spark.sql(\"SELECT asin,reviewerID,CAST(overall as INT) as overall,CAST(substring(reviewTime,-4) as INT) as Year FROM Temp_table where verified=true\").createOrReplaceTempView(\"Data\")\n",
    "#verifying the table structure\n",
    "spark.sql(\"desc Data\").show()"
   ]
  },
  {
   "cell_type": "code",
   "execution_count": 23,
   "metadata": {},
   "outputs": [
    {
     "name": "stdout",
     "output_type": "stream",
     "text": [
      "+----------+--------------+-------+----+\n",
      "|      asin|    reviewerID|overall|Year|\n",
      "+----------+--------------+-------+----+\n",
      "|0470536454|A29OWR79AM796H|      4|2017|\n",
      "|0470536454| AUPWU27A7X5F6|      5|2017|\n",
      "|0470536454|A1N69A47D4JO6K|      4|2017|\n",
      "|0470536454| AHTIQUMVCGBFJ|      5|2017|\n",
      "|0470536454|A1J8LQ7HVLR9GU|      5|2017|\n",
      "|0470536454| ABVTZ63S6GOWF|      5|2017|\n",
      "|0470536454|A2HX9NFBXGSWRW|      4|2016|\n",
      "|0470536454| AP1TQR64HQRCI|      4|2016|\n",
      "|0470536454| A37FC9MED20AO|      5|2016|\n",
      "|0470536454|A26EU1X4VDNT4Z|      5|2016|\n",
      "|0470536454|A3II49ZWIOZF92|      3|2016|\n",
      "|0470536454|A347LQX3G500YN|      5|2016|\n",
      "|0470536454|A2FPOGMO1CCSUQ|      4|2016|\n",
      "|0470536454| AL8FRAYQS43LI|      5|2016|\n",
      "|0470536454| AHVLB4P706L86|      4|2016|\n",
      "|0470536454| AP609X3Z27XUH|      4|2016|\n",
      "|0470536454|A17B9D1PXJ3X6I|      5|2016|\n",
      "|0470536454|A2C7C71PD0ZCC8|      5|2016|\n",
      "|0470536454|A20TFBX9P653F2|      5|2016|\n",
      "|0470536454|A2H8PAAQZD5WTE|      5|2016|\n",
      "+----------+--------------+-------+----+\n",
      "only showing top 20 rows\n",
      "\n"
     ]
    }
   ],
   "source": [
    "#verifying the data\n",
    "spark.sql(\"select * from Data\").show()"
   ]
  },
  {
   "cell_type": "code",
   "execution_count": 24,
   "metadata": {},
   "outputs": [
    {
     "name": "stdout",
     "output_type": "stream",
     "text": [
      "+----------+--------------+-------+\n",
      "|      asin|    reviewerID|overall|\n",
      "+----------+--------------+-------+\n",
      "|B0002D02NA|A3FCYPKFJQHYRN|      5|\n",
      "|B0002D02NA|A3IDJW1W0MG8SN|      5|\n",
      "|B0002D02NA| AB7DDYDJU64T7|      5|\n",
      "|B0002D02NA|A3MQJF05OGA0XN|      5|\n",
      "|B0002D02NA|A2WTF6HR32CMA7|      5|\n",
      "|B0002D02NA|A3JX7JTU9NI5TL|      5|\n",
      "|B0002D02NA|A1JGWBGTU9PE45|      5|\n",
      "|B0002D02NA|A2T91VR17RTAK7|      5|\n",
      "|B0002D02NA|A2BSB6VSY6UM3H|      3|\n",
      "|B0002D02NA| A2E47ZNGSMC64|      4|\n",
      "|B0002D02NA| ABXPR6SNUUUZR|      5|\n",
      "|B0002D02NA|A2CJ6FA26ETI03|      5|\n",
      "|B0002D02NA| A8BNX28259701|      5|\n",
      "|B0002D02NA| AC8VMJ4OEIHYO|      5|\n",
      "|B0002D02NA|A1FQYT05GY9M04|      5|\n",
      "|B0002D02NA|A1HC1NOGVMCNUA|      5|\n",
      "|B0002D02NA|A1Z7FZH0SE5TJ5|      5|\n",
      "|B0002D02NA|A2E64XLZSU0P5L|      5|\n",
      "|B0002D02NA|A3UD50M7M72150|      4|\n",
      "|B0002D02NA|A19X5GXMJZLM8Y|      5|\n",
      "+----------+--------------+-------+\n",
      "only showing top 20 rows\n",
      "\n"
     ]
    }
   ],
   "source": [
    "#save the data to a sql dataframe by using select query\n",
    "df=spark.sql(\"select asin,reviewerID,overall from Data where Year>2015 and asin in (select asin from (select asin,count(reviewerID) as reviews from Data  where Year>2015 group by asin having reviews>5)A)\")\n",
    "df.show()"
   ]
  },
  {
   "cell_type": "markdown",
   "metadata": {},
   "source": [
    "We have filtered the source data set and stored it into spark data frame. The data in df is for only verified users and from year 2016 and onwards.\n",
    "For storing this data we will convert this data into pandas dataframe and save it as csv file."
   ]
  },
  {
   "cell_type": "code",
   "execution_count": 30,
   "metadata": {},
   "outputs": [],
   "source": [
    "#covert spark sql dataframe to pandas dataframe\n",
    "pd=df.toPandas()\n",
    "#save pandas dataframe to csv file for reference\n",
    "pd.to_csv(r'Musical_Instruments_Processed.csv', index = False)"
   ]
  },
  {
   "cell_type": "markdown",
   "metadata": {},
   "source": [
    "# Checking the processed data details"
   ]
  },
  {
   "cell_type": "code",
   "execution_count": 26,
   "metadata": {},
   "outputs": [
    {
     "name": "stdout",
     "output_type": "stream",
     "text": [
      "Number of unique products = 16451\n",
      "Number of unique users = 389468\n",
      "Number of ratings = 568425\n"
     ]
    }
   ],
   "source": [
    "number_of_unique_products = len(pd['asin'].unique())\n",
    "number_of_unique_users = len(pd['reviewerID'].unique())\n",
    "number_of_ratings = len(pd)\n",
    "print(\"Number of unique products =\", number_of_unique_products)\n",
    "print(\"Number of unique users =\", number_of_unique_users)\n",
    "print(\"Number of ratings =\", number_of_ratings)"
   ]
  },
  {
   "cell_type": "markdown",
   "metadata": {},
   "source": [
    "Visual representation of the data as below:"
   ]
  },
  {
   "cell_type": "code",
   "execution_count": 27,
   "metadata": {},
   "outputs": [],
   "source": [
    "import math\n",
    "import scipy.stats as stats\n",
    "from scipy.sparse import csc_matrix, csr_matrix\n",
    "import matplotlib.pyplot as plt\n",
    "from sklearn.metrics.pairwise import cosine_similarity\n",
    "import warnings\n",
    "%matplotlib inline\n",
    "warnings.filterwarnings(\"ignore\")"
   ]
  },
  {
   "cell_type": "code",
   "execution_count": 28,
   "metadata": {},
   "outputs": [
    {
     "data": {
      "image/png": "[encoded data removed]",
      "text/plain": [
       "<Figure size 720x360 with 2 Axes>"
      ]
     },
     "metadata": {
      "needs_background": "light"
     },
     "output_type": "display_data"
    }
   ],
   "source": [
    "fig = plt.figure(figsize=(10,5))\n",
    "ax = fig.add_subplot(121)\n",
    "ax.hist(pd['overall'], bins=[0.9, 1.1, 1.9, 2.1, 2.9, 3.1, 3.9, 4.1, 4.9, 5.1])\n",
    "ax.set_xlabel('product rating', fontsize=15)\n",
    "\n",
    "# mean ratings from each user\n",
    "mean_rating_of_user = pd.groupby('reviewerID').apply(lambda x: x['overall'].mean())\n",
    "ax = fig.add_subplot(122)\n",
    "ax.hist(mean_rating_of_user)\n",
    "ax.set_xlabel('mean rating given by each user', fontsize=15)\n",
    "plt.tight_layout()\n",
    "plt.show()"
   ]
  },
  {
   "cell_type": "markdown",
   "metadata": {},
   "source": [
    "Looks like the distribution is highly skewed towards very positive reviews, which is a well known effect with ratings - unless the customer is highly dissatisfied with a product they will give it a \"5\"."
   ]
  },
  {
   "cell_type": "code",
   "execution_count": 29,
   "metadata": {},
   "outputs": [
    {
     "name": "stdout",
     "output_type": "stream",
     "text": [
      "Mean rating = 4.278552139684215\n",
      "Median rating = 5.0\n"
     ]
    }
   ],
   "source": [
    "mean_rating = pd['overall'].mean()\n",
    "median_rating = pd['overall'].median()\n",
    "print(\"Mean rating =\", mean_rating)\n",
    "print(\"Median rating =\", median_rating)"
   ]
  },
  {
   "cell_type": "code",
   "execution_count": null,
   "metadata": {},
   "outputs": [],
   "source": []
  }
 ],
 "metadata": {
  "kernelspec": {
   "display_name": "Python 3",
   "language": "python",
   "name": "python3"
  },
  "language_info": {
   "codemirror_mode": {
    "name": "ipython",
    "version": 3
   },
   "file_extension": ".py",
   "mimetype": "text/x-python",
   "name": "python",
   "nbconvert_exporter": "python",
   "pygments_lexer": "ipython3",
   "version": "3.7.3"
  }
 },
 "nbformat": 4,
 "nbformat_minor": 2
}
