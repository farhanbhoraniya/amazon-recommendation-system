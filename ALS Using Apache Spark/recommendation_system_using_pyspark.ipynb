{
 "cells": [
  {
   "cell_type": "markdown",
   "metadata": {},
   "source": [
    "# Recommendation System Using pyspark and MLib"
   ]
  },
  {
   "cell_type": "code",
   "execution_count": 1,
   "metadata": {},
   "outputs": [],
   "source": [
    "import findspark\n",
    "findspark.init()\n",
    "findspark.find()\n",
    "import pyspark\n",
    "import os\n",
    "import numpy as np\n",
    "from pyspark.sql import SparkSession\n",
    "from pyspark import SparkContext"
   ]
  },
  {
   "cell_type": "code",
   "execution_count": 2,
   "metadata": {},
   "outputs": [],
   "source": [
    "spark = SparkSession \\\n",
    "    .builder \\\n",
    "    .appName(\"Recommendation_System\") \\\n",
    "    .getOrCreate()"
   ]
  },
  {
   "cell_type": "code",
   "execution_count": 3,
   "metadata": {},
   "outputs": [],
   "source": [
    "sc = spark.sparkContext\n",
    "# Default Partitions\n",
    "sc.defaultParallelism\n",
    "from pyspark.sql import SQLContext\n",
    "sqlContext = SQLContext(sc)"
   ]
  },
  {
   "cell_type": "code",
   "execution_count": 4,
   "metadata": {},
   "outputs": [],
   "source": [
    "df = sqlContext.read.load(\"Musical_Instruments_Processed.csv\",format=\"csv\", sep=\",\", inferSchema=\"true\", header=\"true\")"
   ]
  },
  {
   "cell_type": "code",
   "execution_count": 5,
   "metadata": {},
   "outputs": [],
   "source": [
    "#import RegressionEvaluator and ALS\n",
    "from pyspark.ml.evaluation import RegressionEvaluator\n",
    "from pyspark.ml.recommendation import ALS\n",
    "#ALS accepts only integer value as parameters. Hence we need to convert asin and reviewerID column in index form.\n",
    "#import modules\n",
    "from pyspark.ml.feature import StringIndexer\n",
    "from pyspark.ml import Pipeline\n",
    "from pyspark.sql.functions import col"
   ]
  },
  {
   "cell_type": "markdown",
   "metadata": {},
   "source": [
    "Using StringIndexer"
   ]
  },
  {
   "cell_type": "code",
   "execution_count": 6,
   "metadata": {},
   "outputs": [
    {
     "name": "stdout",
     "output_type": "stream",
     "text": [
      "+----------+--------------+-------+----------------+----------+\n",
      "|      asin|    reviewerID|overall|reviewerID_index|asin_index|\n",
      "+----------+--------------+-------+----------------+----------+\n",
      "|B0002D02NA|A2E64XLZSU0P5L|      5|         32297.0|    3333.0|\n",
      "|B0002D02NA|A3UD50M7M72150|      4|          2855.0|    3333.0|\n",
      "|B0002D02NA|A19X5GXMJZLM8Y|      5|          3824.0|    3333.0|\n",
      "|B0002D02NA|A3BSMAWPYGQJ1S|      5|          7754.0|    3333.0|\n",
      "|B0002D02NA| AEJZM5IXSYJXB|      5|         60764.0|    3333.0|\n",
      "|B0002D02NA|A1T051828RL75U|      5|         23166.0|    3333.0|\n",
      "|B0002DVBBW| AY35MQESG99FO|      2|         69626.0|    3339.0|\n",
      "|B0002DVBBW|A2T6UJ8K87W4HU|      5|         38954.0|    3339.0|\n",
      "|B0002DVBBW|A3QSHEJK2T6E41|      5|          8537.0|    3339.0|\n",
      "|B0002DVBBW|A3LOJ8FRN12M7T|      5|         51659.0|    3339.0|\n",
      "|B0002DVBBW| A136AL1BFMQEO|      5|         11968.0|    3339.0|\n",
      "|B0002DVBBW|A1LFG83Q2H1JNR|      3|         19931.0|    3339.0|\n",
      "|B0006IQLF4|A1STCGKIY3CAUN|      5|          1839.0|     398.0|\n",
      "|B0006IQLF4|A2CFPGZXPF8PYV|      3|          5907.0|     398.0|\n",
      "|B0006IQLF4|A25G06PKGCZEOV|      5|          5526.0|     398.0|\n",
      "|B0006IQLF4|A33I674QPI0SKJ|      1|          2465.0|     398.0|\n",
      "|B0006IQLF4|A2RX3GX4831OR9|      5|           112.0|     398.0|\n",
      "|B0006IQLF4|A1JD7L5HZ0L1V0|      5|           240.0|     398.0|\n",
      "|B0006IQLF4|A3AHXV9TBOB8GH|      5|          1143.0|     398.0|\n",
      "|B0006IQLF4|A37ATOXK9B36BK|      5|           304.0|     398.0|\n",
      "+----------+--------------+-------+----------------+----------+\n",
      "only showing top 20 rows\n",
      "\n"
     ]
    }
   ],
   "source": [
    "indexer = [StringIndexer(inputCol=column, outputCol=column+\"_index\") for column in list(set(df.columns)-set(['overall'])) ]\n",
    "temp_data = Pipeline(stages=indexer)\n",
    "updated_data = temp_data.fit(df).transform(df)\n",
    "updated_data.show()"
   ]
  },
  {
   "cell_type": "code",
   "execution_count": 7,
   "metadata": {},
   "outputs": [],
   "source": [
    "#Creating training and test data\n",
    "(training_data,test_data)=updated_data.randomSplit([0.8, 0.2])"
   ]
  },
  {
   "cell_type": "code",
   "execution_count": 8,
   "metadata": {},
   "outputs": [],
   "source": [
    "#Creating ALS model and fitting data\n",
    "als=ALS(maxIter=10,regParam=0.1,rank=50,userCol=\"reviewerID_index\",itemCol=\"asin_index\",ratingCol=\"overall\",coldStartStrategy=\"drop\",nonnegative=True)"
   ]
  },
  {
   "cell_type": "code",
   "execution_count": 9,
   "metadata": {},
   "outputs": [],
   "source": [
    "#fit the model on training data\n",
    "model=als.fit(training_data)"
   ]
  },
  {
   "cell_type": "code",
   "execution_count": 10,
   "metadata": {},
   "outputs": [
    {
     "name": "stdout",
     "output_type": "stream",
     "text": [
      "RMSE=1.6612362706914139\n"
     ]
    }
   ],
   "source": [
    "#Generate predictions and evaluate rmse\n",
    "evaluator=RegressionEvaluator(metricName=\"rmse\",labelCol=\"overall\",predictionCol=\"prediction\")\n",
    "predictions=model.transform(test_data)\n",
    "rmse=evaluator.evaluate(predictions)\n",
    "print(\"RMSE=\"+str(rmse))"
   ]
  },
  {
   "cell_type": "code",
   "execution_count": 11,
   "metadata": {},
   "outputs": [
    {
     "name": "stdout",
     "output_type": "stream",
     "text": [
      "+----------+--------------+-------+----------------+----------+----------+\n",
      "|      asin|    reviewerID|overall|reviewerID_index|asin_index|prediction|\n",
      "+----------+--------------+-------+----------------+----------+----------+\n",
      "|B00P0AHRQ0|A2U57RPL3TCU3W|      3|          2339.0|    1645.0| 3.1910493|\n",
      "|B00JW286K8|A170P56DL715EP|      4|          1537.0|    1395.0|  4.861015|\n",
      "|B000V1K7FG| A4TMBU1YC404R|      5|          2895.0|    1460.0| 4.0801983|\n",
      "|B00EOYKE0O| A35K6IKCXCWJ9|      5|          7439.0|    1483.0| 2.3130622|\n",
      "|B00VHKM190|A1AS8TH7HN3BLL|      2|          3875.0|    3179.0| 3.0583022|\n",
      "|B005GZ86ZA|A2VZN56IW519UY|      5|          2362.0|    2996.0| 3.6469593|\n",
      "|B00U3ZIAUE|A1XYSCQR433K8M|      5|          1903.0|    3761.0| 4.1952424|\n",
      "|B00CDA0IUC|A180PB68JB06JS|      5|          3731.0|     580.0|  3.943441|\n",
      "|B00BLQ7M4E|A1JL94VIIZRKC3|      5|          4371.0|      65.0| 3.0215068|\n",
      "|B0098JO3H0|A31KBMB92U5QIK|      5|          7243.0|    3566.0| 2.7231038|\n",
      "|B01H31ITWE|A3I2JLMG5R38ON|      2|          2682.0|     255.0| 2.4797554|\n",
      "|B018TB0I6M| AUP2F3WEOYYA8|      5|         10193.0|     799.0| 4.8863583|\n",
      "|B0002E2SA4|A1DZ1LZCHBZVBC|      5|          1640.0|     133.0|  3.191925|\n",
      "|B013AWNX62|A2I5NUL4389KYQ|      5|          2195.0|     321.0|   4.77818|\n",
      "|B00PJ12WYC|A2PCB7J05C0JTF|      5|           512.0|     633.0|  4.165604|\n",
      "|B0029RVWUO|A1KQAO17SBSDYM|      5|          1731.0|     876.0| 3.8104703|\n",
      "|B0029RVWUO| A4KTQWVQLPPWA|      5|          2890.0|     876.0| 4.6180625|\n",
      "|B00B5LDMH6|A15Z0OF1PUK405|      5|            13.0|     211.0|  5.073883|\n",
      "|B017LTVMG8|A3DKLAC5RAYFIR|      5|          7868.0|    1068.0| 3.3762994|\n",
      "|B017LTVMG8| AOJWPF7ZPCND8|      5|          9887.0|    1068.0|0.98960274|\n",
      "+----------+--------------+-------+----------------+----------+----------+\n",
      "only showing top 20 rows\n",
      "\n"
     ]
    }
   ],
   "source": [
    "predictions.show()"
   ]
  },
  {
   "cell_type": "markdown",
   "metadata": {},
   "source": [
    "getting recomendation for the users using - recommendForAllUsers and converting Index values back to categorical values as IndexToString"
   ]
  },
  {
   "cell_type": "code",
   "execution_count": 13,
   "metadata": {},
   "outputs": [],
   "source": [
    "md=updated_data.select(updated_data['reviewerID'],updated_data['reviewerID_index'],updated_data['asin'],updated_data['asin_index'])\n",
    "md=md.toPandas()\n",
    "dict1 =dict(zip(md['reviewerID_index'],md['reviewerID']))\n",
    "dict2=dict(zip(md['asin_index'],md['asin']))"
   ]
  },
  {
   "cell_type": "code",
   "execution_count": 14,
   "metadata": {},
   "outputs": [],
   "source": [
    "import pandas as pd\n",
    "recs=model.recommendForAllUsers(10).toPandas()\n",
    "nrecs=recs.recommendations.apply(pd.Series) \\\n",
    "            .merge(recs, right_index = True, left_index = True) \\\n",
    "            .drop([\"recommendations\"], axis = 1) \\\n",
    "            .melt(id_vars = ['reviewerID_index'], value_name = \"recommendation\") \\\n",
    "            .drop(\"variable\", axis = 1) \\\n",
    "            .dropna() \n",
    "nrecs=nrecs.sort_values('reviewerID_index')\n",
    "nrecs=pd.concat([nrecs['recommendation'].apply(pd.Series), nrecs['reviewerID_index']], axis = 1)\n",
    "nrecs.columns = [\n",
    "        \n",
    "        'ProductID_index',\n",
    "        'Rating',\n",
    "        'UserID_index'\n",
    "       \n",
    "     ]\n"
   ]
  },
  {
   "cell_type": "code",
   "execution_count": 15,
   "metadata": {},
   "outputs": [
    {
     "name": "stderr",
     "output_type": "stream",
     "text": [
      "C:\\ProgramData\\Anaconda3\\lib\\site-packages\\ipykernel_launcher.py:6: SettingWithCopyWarning: \n",
      "A value is trying to be set on a copy of a slice from a DataFrame.\n",
      "Try using .loc[row_indexer,col_indexer] = value instead\n",
      "\n",
      "See the caveats in the documentation: http://pandas.pydata.org/pandas-docs/stable/user_guide/indexing.html#returning-a-view-versus-a-copy\n",
      "  \n"
     ]
    }
   ],
   "source": [
    "nrecs['reviewerID']=nrecs['UserID_index'].map(dict1)\n",
    "nrecs['asin']=nrecs['ProductID_index'].map(dict2)\n",
    "nrecs=nrecs.sort_values('reviewerID')\n",
    "nrecs.reset_index(drop=True, inplace=True)\n",
    "new=nrecs[['reviewerID','asin','Rating']]\n",
    "new['recommendations'] = list(zip(new.asin, new.Rating))\n",
    "res=new[['reviewerID','recommendations']]  \n",
    "res_new=res['recommendations'].groupby([res.reviewerID]).apply(list).reset_index()"
   ]
  },
  {
   "cell_type": "code",
   "execution_count": 16,
   "metadata": {},
   "outputs": [
    {
     "name": "stdout",
     "output_type": "stream",
     "text": [
      "                 reviewerID                                    recommendations\n",
      "0      A0121853CORJ9U925T6G  [(B00QD5EDB8, 4.009557247161865), (B012N5JGGS,...\n",
      "1      A0183104KMY6KZLU8C70  [(B0007SL856, 5.003383159637451), (B0037NVSYY,...\n",
      "2      A0245825TGZGEHLKA09N  [(B00GBG12OK, 4.60458517074585), (B00ISQCN6M, ...\n",
      "3      A02607458WUIM58SBM2D  [(B0008G26JO, 4.966275691986084), (B00ISQCN6M,...\n",
      "4      A03690638RLHYCUK9KX2  [(B00TSCFIDA, 5.349193572998047), (B000RKVH0K,...\n",
      "...                     ...                                                ...\n",
      "58218         AZZ41SOILN3WE  [(B00AZNR6W2, 3.4219517707824707), (B01FPN5JEI...\n",
      "58219         AZZHB5R8E2TK9  [(B00FW7508S, 3.271819829940796), (B00L1LQ5L0,...\n",
      "58220         AZZLY8O5S2E5L  [(B00OF51CYY, 0.9842791557312012), (B00FM0MSDK...\n",
      "58221         AZZO203OUUIEG  [(B00OO0LD1C, 3.4551329612731934), (B00DM4LT10...\n",
      "58222         AZZZWDGMM27BT  [(B00C2DC8N0, 5.303450584411621), (B012N5JGGS,...\n",
      "\n",
      "[58223 rows x 2 columns]\n"
     ]
    }
   ],
   "source": [
    "print(res_new)"
   ]
  },
  {
   "cell_type": "code",
   "execution_count": 17,
   "metadata": {},
   "outputs": [],
   "source": [
    "#save pandas dataframe to csv file for reference\n",
    "res_new.to_csv(r'result.csv', index = False)"
   ]
  },
  {
   "cell_type": "code",
   "execution_count": null,
   "metadata": {},
   "outputs": [],
   "source": []
  }
 ],
 "metadata": {
  "kernelspec": {
   "display_name": "Python 3",
   "language": "python",
   "name": "python3"
  },
  "language_info": {
   "codemirror_mode": {
    "name": "ipython",
    "version": 3
   },
   "file_extension": ".py",
   "mimetype": "text/x-python",
   "name": "python",
   "nbconvert_exporter": "python",
   "pygments_lexer": "ipython3",
   "version": "3.7.3"
  }
 },
 "nbformat": 4,
 "nbformat_minor": 2
}
