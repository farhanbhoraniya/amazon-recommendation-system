{
 "cells": [
  {
   "cell_type": "code",
   "execution_count": 1,
   "metadata": {},
   "outputs": [],
   "source": [
    "#project task 1 : Musical Instruments "
   ]
  },
  {
   "cell_type": "code",
   "execution_count": 1,
   "metadata": {},
   "outputs": [],
   "source": [
    "# import libraries \n",
    "import os\n",
    "import json\n",
    "import gzip\n",
    "import pandas as pd\n",
    "from urllib.request import urlopen\n",
    "from surprise import Dataset\n",
    "from surprise import Reader\n",
    "from surprise.model_selection.split import train_test_split\n",
    "from surprise.model_selection import cross_validate, GridSearchCV\n",
    "import numpy as np\n",
    "import io\n",
    "from surprise import SlopeOne, NMF,NormalPredictor, CoClustering\n",
    "from surprise import KNNBasic, KNNWithMeans, KNNWithZScore,KNNBaseline\n",
    "from surprise import BaselineOnly\n",
    "from surprise import SVDpp\n",
    "from surprise import SVD\n",
    "from surprise import accuracy\n",
    "import matplotlib.pyplot as plt"
   ]
  },
  {
   "cell_type": "code",
   "execution_count": 2,
   "metadata": {},
   "outputs": [],
   "source": [
    "import json\n",
    "data=[]\n",
    "with open('/Users/apoorvabanubakode/Downloads/meta_Musical_Instruments.json') as f:\n",
    "    for l in f:\n",
    "        data.append(json.loads(l.strip()))\n",
    "AppliancesmetaDf=pd.DataFrame(data)"
   ]
  },
  {
   "cell_type": "code",
   "execution_count": 3,
   "metadata": {},
   "outputs": [
    {
     "data": {
      "text/html": [
       "<div>\n",
       "<style scoped>\n",
       "    .dataframe tbody tr th:only-of-type {\n",
       "        vertical-align: middle;\n",
       "    }\n",
       "\n",
       "    .dataframe tbody tr th {\n",
       "        vertical-align: top;\n",
       "    }\n",
       "\n",
       "    .dataframe thead th {\n",
       "        text-align: right;\n",
       "    }\n",
       "</style>\n",
       "<table border=\"1\" class=\"dataframe\">\n",
       "  <thead>\n",
       "    <tr style=\"text-align: right;\">\n",
       "      <th></th>\n",
       "      <th>also_buy</th>\n",
       "      <th>also_view</th>\n",
       "      <th>asin</th>\n",
       "      <th>brand</th>\n",
       "      <th>category</th>\n",
       "      <th>date</th>\n",
       "      <th>description</th>\n",
       "      <th>details</th>\n",
       "      <th>feature</th>\n",
       "      <th>fit</th>\n",
       "      <th>image</th>\n",
       "      <th>main_cat</th>\n",
       "      <th>price</th>\n",
       "      <th>rank</th>\n",
       "      <th>similar_item</th>\n",
       "      <th>tech1</th>\n",
       "      <th>tech2</th>\n",
       "      <th>title</th>\n",
       "    </tr>\n",
       "  </thead>\n",
       "  <tbody>\n",
       "    <tr>\n",
       "      <th>0</th>\n",
       "      <td>[B00NP8GYVS, B00NP80XMO, B00NP8M098]</td>\n",
       "      <td>NaN</td>\n",
       "      <td>0000989983</td>\n",
       "      <td>WADSUWAN SHOP</td>\n",
       "      <td>[Musical Instruments, Drums &amp; Percussion, Hand...</td>\n",
       "      <td>December 2, 2013</td>\n",
       "      <td>[Cricket Rubbing the spine with the wooden sti...</td>\n",
       "      <td>NaN</td>\n",
       "      <td>[Wood percussion, Owl whistle*, Includes woode...</td>\n",
       "      <td>NaN</td>\n",
       "      <td>[https://images-na.ssl-images-amazon.com/image...</td>\n",
       "      <td>Musical Instruments</td>\n",
       "      <td>NaN</td>\n",
       "      <td>&gt;#141,729 in Musical Instruments (See Top 100 ...</td>\n",
       "      <td>NaN</td>\n",
       "      <td>NaN</td>\n",
       "      <td>NaN</td>\n",
       "      <td>Wooden Percussion 2 Piece Set of 3 Inch Cricke...</td>\n",
       "    </tr>\n",
       "    <tr>\n",
       "      <th>1</th>\n",
       "      <td>[B00NP8GYVS, B00NP80XMO, B01MY48HK5, B00AZZ1AJ...</td>\n",
       "      <td>NaN</td>\n",
       "      <td>0000098906</td>\n",
       "      <td>WADSUWAN SHOP</td>\n",
       "      <td>[Musical Instruments, Drums &amp; Percussion, Hand...</td>\n",
       "      <td>December 2, 2013</td>\n",
       "      <td>[Frog - Rubbing its spine with the wooden stic...</td>\n",
       "      <td>NaN</td>\n",
       "      <td>[Wood percussion, Small 3 inches, Creates orig...</td>\n",
       "      <td>NaN</td>\n",
       "      <td>[https://images-na.ssl-images-amazon.com/image...</td>\n",
       "      <td>Musical Instruments</td>\n",
       "      <td>$0.91</td>\n",
       "      <td>&gt;#1,622 in Musical Instruments (See Top 100 in...</td>\n",
       "      <td>NaN</td>\n",
       "      <td>NaN</td>\n",
       "      <td>NaN</td>\n",
       "      <td>Wooden Percussion 3 Piece Set Frog, Cricket an...</td>\n",
       "    </tr>\n",
       "    <tr>\n",
       "      <th>2</th>\n",
       "      <td>NaN</td>\n",
       "      <td>NaN</td>\n",
       "      <td>0041291905</td>\n",
       "      <td>Hal Leonard</td>\n",
       "      <td>[Musical Instruments, Instrument Accessories, ...</td>\n",
       "      <td>May 10, 2011</td>\n",
       "      <td>[Vivaldi's famous set of four violin concertos...</td>\n",
       "      <td>NaN</td>\n",
       "      <td>[., ., .]</td>\n",
       "      <td>NaN</td>\n",
       "      <td>[https://images-na.ssl-images-amazon.com/image...</td>\n",
       "      <td>Musical Instruments</td>\n",
       "      <td>$62.93</td>\n",
       "      <td>&gt;#330,653 in Musical Instruments (See Top 100 ...</td>\n",
       "      <td>NaN</td>\n",
       "      <td>NaN</td>\n",
       "      <td>NaN</td>\n",
       "      <td>Hal Leonard Vivaldi Four Seasons for Piano (Or...</td>\n",
       "    </tr>\n",
       "    <tr>\n",
       "      <th>3</th>\n",
       "      <td>[0486266842, 0793507669, 0393008789, 142341280...</td>\n",
       "      <td>NaN</td>\n",
       "      <td>0060015500</td>\n",
       "      <td>Boosey &amp;amp; Hawkes</td>\n",
       "      <td>NaN</td>\n",
       "      <td>May 23, 2007</td>\n",
       "      <td>[The Turn of the Screw (op. 54) vocal score, p...</td>\n",
       "      <td>NaN</td>\n",
       "      <td>NaN</td>\n",
       "      <td>NaN</td>\n",
       "      <td>[https://images-na.ssl-images-amazon.com/image...</td>\n",
       "      <td>Musical Instruments</td>\n",
       "      <td>$107.79</td>\n",
       "      <td>[&gt;#86,354 in Musical Instruments (See Top 100 ...</td>\n",
       "      <td>NaN</td>\n",
       "      <td>NaN</td>\n",
       "      <td>NaN</td>\n",
       "      <td>The Turn of the Screw (vocal score)</td>\n",
       "    </tr>\n",
       "    <tr>\n",
       "      <th>4</th>\n",
       "      <td>NaN</td>\n",
       "      <td>NaN</td>\n",
       "      <td>0193757710</td>\n",
       "      <td>NaN</td>\n",
       "      <td>NaN</td>\n",
       "      <td>February 8, 2013</td>\n",
       "      <td>NaN</td>\n",
       "      <td>NaN</td>\n",
       "      <td>NaN</td>\n",
       "      <td>NaN</td>\n",
       "      <td>[https://images-na.ssl-images-amazon.com/image...</td>\n",
       "      <td>Musical Instruments</td>\n",
       "      <td>NaN</td>\n",
       "      <td>[&gt;#482,025 in Musical Instruments (See Top 100...</td>\n",
       "      <td>NaN</td>\n",
       "      <td>NaN</td>\n",
       "      <td>NaN</td>\n",
       "      <td>Suite for Organ (including the Trumpet Volunta...</td>\n",
       "    </tr>\n",
       "  </tbody>\n",
       "</table>\n",
       "</div>"
      ],
      "text/plain": [
       "                                            also_buy also_view        asin  \\\n",
       "0               [B00NP8GYVS, B00NP80XMO, B00NP8M098]       NaN  0000989983   \n",
       "1  [B00NP8GYVS, B00NP80XMO, B01MY48HK5, B00AZZ1AJ...       NaN  0000098906   \n",
       "2                                                NaN       NaN  0041291905   \n",
       "3  [0486266842, 0793507669, 0393008789, 142341280...       NaN  0060015500   \n",
       "4                                                NaN       NaN  0193757710   \n",
       "\n",
       "                 brand                                           category  \\\n",
       "0        WADSUWAN SHOP  [Musical Instruments, Drums & Percussion, Hand...   \n",
       "1        WADSUWAN SHOP  [Musical Instruments, Drums & Percussion, Hand...   \n",
       "2          Hal Leonard  [Musical Instruments, Instrument Accessories, ...   \n",
       "3  Boosey &amp; Hawkes                                                NaN   \n",
       "4                  NaN                                                NaN   \n",
       "\n",
       "               date                                        description  \\\n",
       "0  December 2, 2013  [Cricket Rubbing the spine with the wooden sti...   \n",
       "1  December 2, 2013  [Frog - Rubbing its spine with the wooden stic...   \n",
       "2      May 10, 2011  [Vivaldi's famous set of four violin concertos...   \n",
       "3      May 23, 2007  [The Turn of the Screw (op. 54) vocal score, p...   \n",
       "4  February 8, 2013                                                NaN   \n",
       "\n",
       "  details                                            feature  fit  \\\n",
       "0     NaN  [Wood percussion, Owl whistle*, Includes woode...  NaN   \n",
       "1     NaN  [Wood percussion, Small 3 inches, Creates orig...  NaN   \n",
       "2     NaN                                          [., ., .]  NaN   \n",
       "3     NaN                                                NaN  NaN   \n",
       "4     NaN                                                NaN  NaN   \n",
       "\n",
       "                                               image             main_cat  \\\n",
       "0  [https://images-na.ssl-images-amazon.com/image...  Musical Instruments   \n",
       "1  [https://images-na.ssl-images-amazon.com/image...  Musical Instruments   \n",
       "2  [https://images-na.ssl-images-amazon.com/image...  Musical Instruments   \n",
       "3  [https://images-na.ssl-images-amazon.com/image...  Musical Instruments   \n",
       "4  [https://images-na.ssl-images-amazon.com/image...  Musical Instruments   \n",
       "\n",
       "     price                                               rank similar_item  \\\n",
       "0      NaN  >#141,729 in Musical Instruments (See Top 100 ...          NaN   \n",
       "1    $0.91  >#1,622 in Musical Instruments (See Top 100 in...          NaN   \n",
       "2   $62.93  >#330,653 in Musical Instruments (See Top 100 ...          NaN   \n",
       "3  $107.79  [>#86,354 in Musical Instruments (See Top 100 ...          NaN   \n",
       "4      NaN  [>#482,025 in Musical Instruments (See Top 100...          NaN   \n",
       "\n",
       "  tech1 tech2                                              title  \n",
       "0   NaN   NaN  Wooden Percussion 2 Piece Set of 3 Inch Cricke...  \n",
       "1   NaN   NaN  Wooden Percussion 3 Piece Set Frog, Cricket an...  \n",
       "2   NaN   NaN  Hal Leonard Vivaldi Four Seasons for Piano (Or...  \n",
       "3   NaN   NaN                The Turn of the Screw (vocal score)  \n",
       "4   NaN   NaN  Suite for Organ (including the Trumpet Volunta...  "
      ]
     },
     "execution_count": 3,
     "metadata": {},
     "output_type": "execute_result"
    }
   ],
   "source": [
    "AppliancesmetaDf.head()"
   ]
  },
  {
   "cell_type": "code",
   "execution_count": 4,
   "metadata": {},
   "outputs": [
    {
     "name": "stdout",
     "output_type": "stream",
     "text": [
      "1907\n",
      "118493\n"
     ]
    }
   ],
   "source": [
    "#AppliancesmetaDf_cleaned.head()\n",
    "df3 = AppliancesmetaDf.fillna('')\n",
    "df4 = df3[df3.title.str.contains('getTime')] # unformatted rows\n",
    "df5 = df3[~df3.title.str.contains('getTime')] # filter those unformatted rows\n",
    "print(len(df4))\n",
    "print(len(df5))"
   ]
  },
  {
   "cell_type": "code",
   "execution_count": 5,
   "metadata": {},
   "outputs": [],
   "source": [
    "AppliancesmetaDf_cleaned=df5.copy()"
   ]
  },
  {
   "cell_type": "code",
   "execution_count": 6,
   "metadata": {},
   "outputs": [],
   "source": [
    "dataAppliances=[]\n",
    "with open('/Users/apoorvabanubakode/Downloads/Musical_Instruments.json') as f:\n",
    "    for l in f:\n",
    "        dataAppliances.append(json.loads(l.strip()))\n",
    "\n",
    "AppliancesDf=pd.DataFrame(dataAppliances)\n"
   ]
  },
  {
   "cell_type": "code",
   "execution_count": 7,
   "metadata": {},
   "outputs": [
    {
     "data": {
      "text/plain": [
       "(1512530, 12)"
      ]
     },
     "execution_count": 7,
     "metadata": {},
     "output_type": "execute_result"
    }
   ],
   "source": [
    "AppliancesDf.shape"
   ]
  },
  {
   "cell_type": "code",
   "execution_count": 8,
   "metadata": {},
   "outputs": [
    {
     "data": {
      "text/html": [
       "<div>\n",
       "<style scoped>\n",
       "    .dataframe tbody tr th:only-of-type {\n",
       "        vertical-align: middle;\n",
       "    }\n",
       "\n",
       "    .dataframe tbody tr th {\n",
       "        vertical-align: top;\n",
       "    }\n",
       "\n",
       "    .dataframe thead th {\n",
       "        text-align: right;\n",
       "    }\n",
       "</style>\n",
       "<table border=\"1\" class=\"dataframe\">\n",
       "  <thead>\n",
       "    <tr style=\"text-align: right;\">\n",
       "      <th></th>\n",
       "      <th>asin</th>\n",
       "      <th>image</th>\n",
       "      <th>overall</th>\n",
       "      <th>reviewText</th>\n",
       "      <th>reviewTime</th>\n",
       "      <th>reviewerID</th>\n",
       "      <th>reviewerName</th>\n",
       "      <th>style</th>\n",
       "      <th>summary</th>\n",
       "      <th>unixReviewTime</th>\n",
       "      <th>verified</th>\n",
       "      <th>vote</th>\n",
       "    </tr>\n",
       "  </thead>\n",
       "  <tbody>\n",
       "    <tr>\n",
       "      <th>0</th>\n",
       "      <td>0470536454</td>\n",
       "      <td>NaN</td>\n",
       "      <td>5.0</td>\n",
       "      <td>Crocheting for Dummies by Karen Manthey &amp; Susa...</td>\n",
       "      <td>08 9, 2004</td>\n",
       "      <td>AXHY24HWOF184</td>\n",
       "      <td>Bendy</td>\n",
       "      <td>{'Format:': ' Paperback'}</td>\n",
       "      <td>Terrific Book for Learning the Art of Crochet</td>\n",
       "      <td>1092009600</td>\n",
       "      <td>False</td>\n",
       "      <td>90</td>\n",
       "    </tr>\n",
       "    <tr>\n",
       "      <th>1</th>\n",
       "      <td>0470536454</td>\n",
       "      <td>NaN</td>\n",
       "      <td>4.0</td>\n",
       "      <td>Very helpful...</td>\n",
       "      <td>04 6, 2017</td>\n",
       "      <td>A29OWR79AM796H</td>\n",
       "      <td>Amazon Customer</td>\n",
       "      <td>{'Format:': ' Hardcover'}</td>\n",
       "      <td>Four Stars</td>\n",
       "      <td>1491436800</td>\n",
       "      <td>True</td>\n",
       "      <td>2</td>\n",
       "    </tr>\n",
       "    <tr>\n",
       "      <th>2</th>\n",
       "      <td>0470536454</td>\n",
       "      <td>NaN</td>\n",
       "      <td>5.0</td>\n",
       "      <td>EASY TO UNDERSTAND AND A PROMPT SERVICE TOO</td>\n",
       "      <td>03 14, 2017</td>\n",
       "      <td>AUPWU27A7X5F6</td>\n",
       "      <td>Amazon Customer</td>\n",
       "      <td>{'Format:': ' Paperback'}</td>\n",
       "      <td>Five Stars</td>\n",
       "      <td>1489449600</td>\n",
       "      <td>True</td>\n",
       "      <td>NaN</td>\n",
       "    </tr>\n",
       "    <tr>\n",
       "      <th>3</th>\n",
       "      <td>0470536454</td>\n",
       "      <td>NaN</td>\n",
       "      <td>4.0</td>\n",
       "      <td>My girlfriend use quite often</td>\n",
       "      <td>02 14, 2017</td>\n",
       "      <td>A1N69A47D4JO6K</td>\n",
       "      <td>Christopher Burnett</td>\n",
       "      <td>{'Format:': ' Paperback'}</td>\n",
       "      <td>Four Stars</td>\n",
       "      <td>1487030400</td>\n",
       "      <td>True</td>\n",
       "      <td>NaN</td>\n",
       "    </tr>\n",
       "    <tr>\n",
       "      <th>4</th>\n",
       "      <td>0470536454</td>\n",
       "      <td>NaN</td>\n",
       "      <td>5.0</td>\n",
       "      <td>Arrived as described. Very happy.</td>\n",
       "      <td>01 29, 2017</td>\n",
       "      <td>AHTIQUMVCGBFJ</td>\n",
       "      <td>Amazon Customer</td>\n",
       "      <td>{'Format:': ' Paperback'}</td>\n",
       "      <td>Very happy.</td>\n",
       "      <td>1485648000</td>\n",
       "      <td>True</td>\n",
       "      <td>NaN</td>\n",
       "    </tr>\n",
       "  </tbody>\n",
       "</table>\n",
       "</div>"
      ],
      "text/plain": [
       "         asin image  overall  \\\n",
       "0  0470536454   NaN      5.0   \n",
       "1  0470536454   NaN      4.0   \n",
       "2  0470536454   NaN      5.0   \n",
       "3  0470536454   NaN      4.0   \n",
       "4  0470536454   NaN      5.0   \n",
       "\n",
       "                                          reviewText   reviewTime  \\\n",
       "0  Crocheting for Dummies by Karen Manthey & Susa...   08 9, 2004   \n",
       "1                                    Very helpful...   04 6, 2017   \n",
       "2        EASY TO UNDERSTAND AND A PROMPT SERVICE TOO  03 14, 2017   \n",
       "3                      My girlfriend use quite often  02 14, 2017   \n",
       "4                  Arrived as described. Very happy.  01 29, 2017   \n",
       "\n",
       "       reviewerID         reviewerName                      style  \\\n",
       "0   AXHY24HWOF184                Bendy  {'Format:': ' Paperback'}   \n",
       "1  A29OWR79AM796H      Amazon Customer  {'Format:': ' Hardcover'}   \n",
       "2   AUPWU27A7X5F6      Amazon Customer  {'Format:': ' Paperback'}   \n",
       "3  A1N69A47D4JO6K  Christopher Burnett  {'Format:': ' Paperback'}   \n",
       "4   AHTIQUMVCGBFJ      Amazon Customer  {'Format:': ' Paperback'}   \n",
       "\n",
       "                                         summary  unixReviewTime  verified  \\\n",
       "0  Terrific Book for Learning the Art of Crochet      1092009600     False   \n",
       "1                                     Four Stars      1491436800      True   \n",
       "2                                     Five Stars      1489449600      True   \n",
       "3                                     Four Stars      1487030400      True   \n",
       "4                                    Very happy.      1485648000      True   \n",
       "\n",
       "  vote  \n",
       "0   90  \n",
       "1    2  \n",
       "2  NaN  \n",
       "3  NaN  \n",
       "4  NaN  "
      ]
     },
     "execution_count": 8,
     "metadata": {},
     "output_type": "execute_result"
    }
   ],
   "source": [
    "AppliancesDf.head()"
   ]
  },
  {
   "cell_type": "code",
   "execution_count": 26,
   "metadata": {},
   "outputs": [
    {
     "data": {
      "text/plain": [
       "(1512530, 6)"
      ]
     },
     "execution_count": 26,
     "metadata": {},
     "output_type": "execute_result"
    }
   ],
   "source": [
    "subset_ratings=AppliancesDf[['asin','reviewTime','reviewerID','verified','overall','reviewText']]\n",
    "subset_ratings.shape"
   ]
  },
  {
   "cell_type": "code",
   "execution_count": 28,
   "metadata": {},
   "outputs": [
    {
     "data": {
      "text/html": [
       "<div>\n",
       "<style scoped>\n",
       "    .dataframe tbody tr th:only-of-type {\n",
       "        vertical-align: middle;\n",
       "    }\n",
       "\n",
       "    .dataframe tbody tr th {\n",
       "        vertical-align: top;\n",
       "    }\n",
       "\n",
       "    .dataframe thead th {\n",
       "        text-align: right;\n",
       "    }\n",
       "</style>\n",
       "<table border=\"1\" class=\"dataframe\">\n",
       "  <thead>\n",
       "    <tr style=\"text-align: right;\">\n",
       "      <th></th>\n",
       "      <th>asin</th>\n",
       "      <th>reviewTime</th>\n",
       "      <th>reviewerID</th>\n",
       "      <th>verified</th>\n",
       "      <th>overall</th>\n",
       "      <th>reviewText</th>\n",
       "      <th>reviewDate</th>\n",
       "    </tr>\n",
       "  </thead>\n",
       "  <tbody>\n",
       "    <tr>\n",
       "      <th>1</th>\n",
       "      <td>0470536454</td>\n",
       "      <td>04 6, 2017</td>\n",
       "      <td>A29OWR79AM796H</td>\n",
       "      <td>True</td>\n",
       "      <td>4.0</td>\n",
       "      <td>Very helpful...</td>\n",
       "      <td>2017-04-06</td>\n",
       "    </tr>\n",
       "    <tr>\n",
       "      <th>2</th>\n",
       "      <td>0470536454</td>\n",
       "      <td>03 14, 2017</td>\n",
       "      <td>AUPWU27A7X5F6</td>\n",
       "      <td>True</td>\n",
       "      <td>5.0</td>\n",
       "      <td>EASY TO UNDERSTAND AND A PROMPT SERVICE TOO</td>\n",
       "      <td>2017-03-14</td>\n",
       "    </tr>\n",
       "    <tr>\n",
       "      <th>3</th>\n",
       "      <td>0470536454</td>\n",
       "      <td>02 14, 2017</td>\n",
       "      <td>A1N69A47D4JO6K</td>\n",
       "      <td>True</td>\n",
       "      <td>4.0</td>\n",
       "      <td>My girlfriend use quite often</td>\n",
       "      <td>2017-02-14</td>\n",
       "    </tr>\n",
       "    <tr>\n",
       "      <th>4</th>\n",
       "      <td>0470536454</td>\n",
       "      <td>01 29, 2017</td>\n",
       "      <td>AHTIQUMVCGBFJ</td>\n",
       "      <td>True</td>\n",
       "      <td>5.0</td>\n",
       "      <td>Arrived as described. Very happy.</td>\n",
       "      <td>2017-01-29</td>\n",
       "    </tr>\n",
       "    <tr>\n",
       "      <th>5</th>\n",
       "      <td>0470536454</td>\n",
       "      <td>01 4, 2017</td>\n",
       "      <td>A1J8LQ7HVLR9GU</td>\n",
       "      <td>True</td>\n",
       "      <td>5.0</td>\n",
       "      <td>Love the Dummies Series.  Never fails.</td>\n",
       "      <td>2017-01-04</td>\n",
       "    </tr>\n",
       "  </tbody>\n",
       "</table>\n",
       "</div>"
      ],
      "text/plain": [
       "         asin   reviewTime      reviewerID  verified  overall  \\\n",
       "1  0470536454   04 6, 2017  A29OWR79AM796H      True      4.0   \n",
       "2  0470536454  03 14, 2017   AUPWU27A7X5F6      True      5.0   \n",
       "3  0470536454  02 14, 2017  A1N69A47D4JO6K      True      4.0   \n",
       "4  0470536454  01 29, 2017   AHTIQUMVCGBFJ      True      5.0   \n",
       "5  0470536454   01 4, 2017  A1J8LQ7HVLR9GU      True      5.0   \n",
       "\n",
       "                                    reviewText reviewDate  \n",
       "1                              Very helpful... 2017-04-06  \n",
       "2  EASY TO UNDERSTAND AND A PROMPT SERVICE TOO 2017-03-14  \n",
       "3                My girlfriend use quite often 2017-02-14  \n",
       "4            Arrived as described. Very happy. 2017-01-29  \n",
       "5       Love the Dummies Series.  Never fails. 2017-01-04  "
      ]
     },
     "execution_count": 28,
     "metadata": {},
     "output_type": "execute_result"
    }
   ],
   "source": [
    "#verified review only\n",
    "subset_ratings=subset_ratings[subset_ratings.verified==True]\n",
    "subset_ratings['reviewDate']=pd.to_datetime(subset_ratings['reviewTime'])\n",
    "subset_ratings.head()"
   ]
  },
  {
   "cell_type": "code",
   "execution_count": 29,
   "metadata": {},
   "outputs": [
    {
     "data": {
      "text/plain": [
       "(370108, 7)"
      ]
     },
     "execution_count": 29,
     "metadata": {},
     "output_type": "execute_result"
    }
   ],
   "source": [
    "#lets see how much data in 2016 onwards :\n",
    "subset_ratings[subset_ratings.reviewDate>'2017-01-01'].shape"
   ]
  },
  {
   "cell_type": "code",
   "execution_count": 30,
   "metadata": {},
   "outputs": [],
   "source": [
    "# lets use recent reviews : post 2016\n",
    "subset_ratings=subset_ratings[subset_ratings.reviewDate>'2018-01-01']"
   ]
  },
  {
   "cell_type": "code",
   "execution_count": 31,
   "metadata": {},
   "outputs": [
    {
     "data": {
      "text/plain": [
       "(366645, 7)"
      ]
     },
     "execution_count": 31,
     "metadata": {},
     "output_type": "execute_result"
    }
   ],
   "source": [
    "#check duplicate values and drop them (mostly reviews are updated so keep last active):\n",
    "checkdf=subset_ratings[subset_ratings.duplicated(subset=['asin','reviewerID','reviewDate'],keep=False)].sort_values(['asin','reviewerID','reviewDate'])\n",
    "checkdf.shape\n",
    "\n",
    "subset_ratings=subset_ratings.drop_duplicates(subset=['asin','reviewerID','reviewDate'],keep='last')\n",
    "subset_ratings.shape"
   ]
  },
  {
   "cell_type": "code",
   "execution_count": 32,
   "metadata": {},
   "outputs": [],
   "source": [
    "subset_ratings=subset_ratings[['reviewerID','asin','overall']]\n",
    "#currently for svd /knn models only consider product id ; reviewer id and ratings\n",
    "#later when top 10 findings then select according to dates and categoty and other details of the asin id "
   ]
  },
  {
   "cell_type": "code",
   "execution_count": 33,
   "metadata": {},
   "outputs": [
    {
     "data": {
      "text/plain": [
       "count    48765.000000\n",
       "mean         7.518610\n",
       "std         31.184289\n",
       "min          1.000000\n",
       "50%          2.000000\n",
       "95%         26.000000\n",
       "97%         41.000000\n",
       "99%        103.000000\n",
       "max       1348.000000\n",
       "Name: asin, dtype: float64"
      ]
     },
     "execution_count": 33,
     "metadata": {},
     "output_type": "execute_result"
    }
   ],
   "source": [
    "no_of_products_reviewed=subset_ratings.asin.value_counts()\n",
    "no_of_products_reviewed.describe([.95,.97,.99])\n",
    "# we can take products who have more than 10 reviews to start with ; but lets try iwith actual given products"
   ]
  },
  {
   "cell_type": "code",
   "execution_count": 34,
   "metadata": {},
   "outputs": [
    {
     "data": {
      "text/plain": [
       "48765"
      ]
     },
     "execution_count": 34,
     "metadata": {},
     "output_type": "execute_result"
    }
   ],
   "source": [
    "len(no_of_products_reviewed) # unique product count is 23439"
   ]
  },
  {
   "cell_type": "code",
   "execution_count": 35,
   "metadata": {},
   "outputs": [
    {
     "data": {
      "text/plain": [
       "count    258896.000000\n",
       "mean          1.416186\n",
       "std           1.373761\n",
       "min           1.000000\n",
       "50%           1.000000\n",
       "95%           3.000000\n",
       "97%           4.000000\n",
       "99%           7.000000\n",
       "max          76.000000\n",
       "Name: reviewerID, dtype: float64"
      ]
     },
     "execution_count": 35,
     "metadata": {},
     "output_type": "execute_result"
    }
   ],
   "source": [
    "review_per_user_counts=subset_ratings.reviewerID.value_counts()\n",
    "review_per_user_counts.describe([.95,.97,.99]) # unique user count is 300070"
   ]
  },
  {
   "cell_type": "code",
   "execution_count": 37,
   "metadata": {},
   "outputs": [
    {
     "data": {
      "text/plain": [
       "(20796,)"
      ]
     },
     "execution_count": 37,
     "metadata": {},
     "output_type": "execute_result"
    }
   ],
   "source": [
    "atemp=subset_ratings.reviewerID.value_counts()\n",
    "atemp[atemp>=3].shape"
   ]
  },
  {
   "cell_type": "code",
   "execution_count": 38,
   "metadata": {},
   "outputs": [],
   "source": [
    "#lets see how many users we have if we consider more than 3 reviews per user \n",
    "\n",
    "#272798 reviewer id just has one review \n",
    "#22284 reviewer id just has two review \n",
    "#3646 reviewer id just has three review \n",
    "filtered_users=review_per_user_counts[review_per_user_counts>=3].reset_index()"
   ]
  },
  {
   "cell_type": "code",
   "execution_count": 39,
   "metadata": {},
   "outputs": [],
   "source": [
    "filtered_users=filtered_users['index'].tolist()"
   ]
  },
  {
   "cell_type": "code",
   "execution_count": 40,
   "metadata": {},
   "outputs": [],
   "source": [
    "subset_backup=subset_ratings.copy()"
   ]
  },
  {
   "cell_type": "code",
   "execution_count": 41,
   "metadata": {},
   "outputs": [],
   "source": [
    "#filtered_users based on reviews>5\n",
    "subset_ratings=subset_ratings[subset_ratings.reviewerID.isin(filtered_users)]"
   ]
  },
  {
   "cell_type": "code",
   "execution_count": 42,
   "metadata": {},
   "outputs": [
    {
     "data": {
      "text/plain": [
       "(97439, 3)"
      ]
     },
     "execution_count": 42,
     "metadata": {},
     "output_type": "execute_result"
    }
   ],
   "source": [
    "subset_ratings.shape"
   ]
  },
  {
   "cell_type": "code",
   "execution_count": 44,
   "metadata": {},
   "outputs": [],
   "source": [
    "grocery=subset_ratings"
   ]
  },
  {
   "cell_type": "code",
   "execution_count": 45,
   "metadata": {},
   "outputs": [
    {
     "data": {
      "text/plain": [
       "\"grocery=pd.read_csv('processed_grocery.csv')\\ngrocery.head()\""
      ]
     },
     "execution_count": 45,
     "metadata": {},
     "output_type": "execute_result"
    }
   ],
   "source": [
    "'''grocery=pd.read_csv('processed_grocery.csv')\n",
    "grocery.head()'''"
   ]
  },
  {
   "cell_type": "code",
   "execution_count": 46,
   "metadata": {},
   "outputs": [],
   "source": [
    "grocery=grocery[['reviewerID','asin','overall']]\n",
    "#cast into subset ratings\n",
    "subset_ratings=grocery"
   ]
  },
  {
   "cell_type": "code",
   "execution_count": 130,
   "metadata": {},
   "outputs": [],
   "source": [
    "val=subset_ratings.reviewerID.value_counts()\n",
    "val=val.reset_index()\n",
    "owners_10ormore=val[val.reviewerID>=10]\n",
    "owners_10ormore=owners_10ormore.drop_duplicates(subset=['index'])\n",
    "owners_10ormore=list(owners_10ormore['index'])\n",
    "#owners_10ormore"
   ]
  },
  {
   "cell_type": "code",
   "execution_count": 131,
   "metadata": {},
   "outputs": [
    {
     "data": {
      "text/plain": [
       "1183"
      ]
     },
     "execution_count": 131,
     "metadata": {},
     "output_type": "execute_result"
    }
   ],
   "source": [
    "len(owners_10ormore)"
   ]
  },
  {
   "cell_type": "code",
   "execution_count": 49,
   "metadata": {},
   "outputs": [
    {
     "data": {
      "text/plain": [
       "(17268, 3)"
      ]
     },
     "execution_count": 49,
     "metadata": {},
     "output_type": "execute_result"
    }
   ],
   "source": [
    "subset_ratings=subset_ratings[subset_ratings.reviewerID.isin(owners_10ormore)]\n",
    "subset_ratings.shape\n",
    "#earlier shape -(2454435, 3)"
   ]
  },
  {
   "cell_type": "code",
   "execution_count": 132,
   "metadata": {},
   "outputs": [
    {
     "name": "stdout",
     "output_type": "stream",
     "text": [
      "(13393, 3)\n",
      "(3875, 3)\n"
     ]
    }
   ],
   "source": [
    "#cut 30% data of users for hidden tests \n",
    "subset_ratings_train=pd.DataFrame()\n",
    "subset_ratings_test=pd.DataFrame()\n",
    "for owner in owners_10ormore[:]:\n",
    "    ownersubset=subset_ratings[subset_ratings.reviewerID==owner]\n",
    "    splitpoint=int(ownersubset.shape[0]*0.8)\n",
    "    \n",
    "    subset_ratings_train=pd.concat([subset_ratings_train,ownersubset.iloc[:splitpoint,:]],axis=0)\n",
    "    subset_ratings_test=pd.concat([subset_ratings_test,ownersubset.iloc[splitpoint:,:]],axis=0)\n",
    "    \n",
    "print(subset_ratings_train.shape)\n",
    "print(subset_ratings_test.shape)\n",
    "    "
   ]
  },
  {
   "cell_type": "code",
   "execution_count": 51,
   "metadata": {},
   "outputs": [
    {
     "data": {
      "text/html": [
       "<div>\n",
       "<style scoped>\n",
       "    .dataframe tbody tr th:only-of-type {\n",
       "        vertical-align: middle;\n",
       "    }\n",
       "\n",
       "    .dataframe tbody tr th {\n",
       "        vertical-align: top;\n",
       "    }\n",
       "\n",
       "    .dataframe thead th {\n",
       "        text-align: right;\n",
       "    }\n",
       "</style>\n",
       "<table border=\"1\" class=\"dataframe\">\n",
       "  <thead>\n",
       "    <tr style=\"text-align: right;\">\n",
       "      <th></th>\n",
       "      <th>reviewerID</th>\n",
       "      <th>asin</th>\n",
       "      <th>overall</th>\n",
       "    </tr>\n",
       "  </thead>\n",
       "  <tbody>\n",
       "    <tr>\n",
       "      <th>1271978</th>\n",
       "      <td>A9SINTLKCQK90</td>\n",
       "      <td>B006CQ8PGC</td>\n",
       "      <td>5.0</td>\n",
       "    </tr>\n",
       "    <tr>\n",
       "      <th>1272111</th>\n",
       "      <td>A9SINTLKCQK90</td>\n",
       "      <td>B006DFJ4HQ</td>\n",
       "      <td>5.0</td>\n",
       "    </tr>\n",
       "    <tr>\n",
       "      <th>1276267</th>\n",
       "      <td>A9SINTLKCQK90</td>\n",
       "      <td>B006W2SFPW</td>\n",
       "      <td>4.0</td>\n",
       "    </tr>\n",
       "    <tr>\n",
       "      <th>1277334</th>\n",
       "      <td>A9SINTLKCQK90</td>\n",
       "      <td>B006YV31JG</td>\n",
       "      <td>2.0</td>\n",
       "    </tr>\n",
       "    <tr>\n",
       "      <th>1294039</th>\n",
       "      <td>A9SINTLKCQK90</td>\n",
       "      <td>B008M0B10I</td>\n",
       "      <td>3.0</td>\n",
       "    </tr>\n",
       "  </tbody>\n",
       "</table>\n",
       "</div>"
      ],
      "text/plain": [
       "            reviewerID        asin  overall\n",
       "1271978  A9SINTLKCQK90  B006CQ8PGC      5.0\n",
       "1272111  A9SINTLKCQK90  B006DFJ4HQ      5.0\n",
       "1276267  A9SINTLKCQK90  B006W2SFPW      4.0\n",
       "1277334  A9SINTLKCQK90  B006YV31JG      2.0\n",
       "1294039  A9SINTLKCQK90  B008M0B10I      3.0"
      ]
     },
     "execution_count": 51,
     "metadata": {},
     "output_type": "execute_result"
    }
   ],
   "source": [
    "subset_ratings_test.head()"
   ]
  },
  {
   "cell_type": "code",
   "execution_count": 52,
   "metadata": {},
   "outputs": [
    {
     "data": {
      "text/html": [
       "<div>\n",
       "<style scoped>\n",
       "    .dataframe tbody tr th:only-of-type {\n",
       "        vertical-align: middle;\n",
       "    }\n",
       "\n",
       "    .dataframe tbody tr th {\n",
       "        vertical-align: top;\n",
       "    }\n",
       "\n",
       "    .dataframe thead th {\n",
       "        text-align: right;\n",
       "    }\n",
       "</style>\n",
       "<table border=\"1\" class=\"dataframe\">\n",
       "  <thead>\n",
       "    <tr style=\"text-align: right;\">\n",
       "      <th></th>\n",
       "      <th>reviewerID</th>\n",
       "      <th>asin</th>\n",
       "      <th>overall</th>\n",
       "    </tr>\n",
       "  </thead>\n",
       "  <tbody>\n",
       "    <tr>\n",
       "      <th>105269</th>\n",
       "      <td>A9SINTLKCQK90</td>\n",
       "      <td>B0002F4UYU</td>\n",
       "      <td>5.0</td>\n",
       "    </tr>\n",
       "    <tr>\n",
       "      <th>108434</th>\n",
       "      <td>A9SINTLKCQK90</td>\n",
       "      <td>B0002F52U6</td>\n",
       "      <td>3.0</td>\n",
       "    </tr>\n",
       "    <tr>\n",
       "      <th>120295</th>\n",
       "      <td>A9SINTLKCQK90</td>\n",
       "      <td>B0002F7KG0</td>\n",
       "      <td>5.0</td>\n",
       "    </tr>\n",
       "    <tr>\n",
       "      <th>238021</th>\n",
       "      <td>A9SINTLKCQK90</td>\n",
       "      <td>B000DZXTFK</td>\n",
       "      <td>3.0</td>\n",
       "    </tr>\n",
       "    <tr>\n",
       "      <th>421106</th>\n",
       "      <td>A9SINTLKCQK90</td>\n",
       "      <td>B001MW9TF2</td>\n",
       "      <td>2.0</td>\n",
       "    </tr>\n",
       "  </tbody>\n",
       "</table>\n",
       "</div>"
      ],
      "text/plain": [
       "           reviewerID        asin  overall\n",
       "105269  A9SINTLKCQK90  B0002F4UYU      5.0\n",
       "108434  A9SINTLKCQK90  B0002F52U6      3.0\n",
       "120295  A9SINTLKCQK90  B0002F7KG0      5.0\n",
       "238021  A9SINTLKCQK90  B000DZXTFK      3.0\n",
       "421106  A9SINTLKCQK90  B001MW9TF2      2.0"
      ]
     },
     "execution_count": 52,
     "metadata": {},
     "output_type": "execute_result"
    }
   ],
   "source": [
    "subset_ratings_train.head()"
   ]
  },
  {
   "cell_type": "code",
   "execution_count": 68,
   "metadata": {},
   "outputs": [
    {
     "data": {
      "text/plain": [
       "(176, 3)"
      ]
     },
     "execution_count": 68,
     "metadata": {},
     "output_type": "execute_result"
    }
   ],
   "source": [
    "subset_ratings_train[subset_ratings_train['reviewerID']=='A2C9XE9I8RSKNX'].shape"
   ]
  },
  {
   "cell_type": "code",
   "execution_count": 69,
   "metadata": {},
   "outputs": [
    {
     "data": {
      "text/plain": [
       "(44, 3)"
      ]
     },
     "execution_count": 69,
     "metadata": {},
     "output_type": "execute_result"
    }
   ],
   "source": [
    "subset_ratings_test[subset_ratings_test['reviewerID']=='A2C9XE9I8RSKNX'].shape"
   ]
  },
  {
   "cell_type": "code",
   "execution_count": 53,
   "metadata": {},
   "outputs": [],
   "source": [
    "#subset_ratings_train.to_csv('subset_ratings_train1.csv')\n",
    "#subset_ratings_test.to_csv('subset_ratings_test1.csv')"
   ]
  },
  {
   "cell_type": "code",
   "execution_count": 54,
   "metadata": {},
   "outputs": [
    {
     "data": {
      "text/html": [
       "<div>\n",
       "<style scoped>\n",
       "    .dataframe tbody tr th:only-of-type {\n",
       "        vertical-align: middle;\n",
       "    }\n",
       "\n",
       "    .dataframe tbody tr th {\n",
       "        vertical-align: top;\n",
       "    }\n",
       "\n",
       "    .dataframe thead th {\n",
       "        text-align: right;\n",
       "    }\n",
       "</style>\n",
       "<table border=\"1\" class=\"dataframe\">\n",
       "  <thead>\n",
       "    <tr style=\"text-align: right;\">\n",
       "      <th></th>\n",
       "      <th>reviewerID</th>\n",
       "      <th>asin</th>\n",
       "      <th>overall</th>\n",
       "    </tr>\n",
       "  </thead>\n",
       "  <tbody>\n",
       "    <tr>\n",
       "      <th>0</th>\n",
       "      <td>A9SINTLKCQK90</td>\n",
       "      <td>B0002F4UYU</td>\n",
       "      <td>5.0</td>\n",
       "    </tr>\n",
       "    <tr>\n",
       "      <th>1</th>\n",
       "      <td>A9SINTLKCQK90</td>\n",
       "      <td>B0002F52U6</td>\n",
       "      <td>3.0</td>\n",
       "    </tr>\n",
       "    <tr>\n",
       "      <th>2</th>\n",
       "      <td>A9SINTLKCQK90</td>\n",
       "      <td>B0002F7KG0</td>\n",
       "      <td>5.0</td>\n",
       "    </tr>\n",
       "    <tr>\n",
       "      <th>3</th>\n",
       "      <td>A9SINTLKCQK90</td>\n",
       "      <td>B000DZXTFK</td>\n",
       "      <td>3.0</td>\n",
       "    </tr>\n",
       "    <tr>\n",
       "      <th>4</th>\n",
       "      <td>A9SINTLKCQK90</td>\n",
       "      <td>B001MW9TF2</td>\n",
       "      <td>2.0</td>\n",
       "    </tr>\n",
       "  </tbody>\n",
       "</table>\n",
       "</div>"
      ],
      "text/plain": [
       "      reviewerID        asin  overall\n",
       "0  A9SINTLKCQK90  B0002F4UYU      5.0\n",
       "1  A9SINTLKCQK90  B0002F52U6      3.0\n",
       "2  A9SINTLKCQK90  B0002F7KG0      5.0\n",
       "3  A9SINTLKCQK90  B000DZXTFK      3.0\n",
       "4  A9SINTLKCQK90  B001MW9TF2      2.0"
      ]
     },
     "execution_count": 54,
     "metadata": {},
     "output_type": "execute_result"
    }
   ],
   "source": [
    "subset_ratings_train=pd.read_csv('subset_ratings_train1.csv')\n",
    "subset_ratings_train=subset_ratings_train[['reviewerID','asin','overall']]\n",
    "subset_ratings_train.head()"
   ]
  },
  {
   "cell_type": "code",
   "execution_count": 55,
   "metadata": {},
   "outputs": [
    {
     "data": {
      "text/plain": [
       "6146"
      ]
     },
     "execution_count": 55,
     "metadata": {},
     "output_type": "execute_result"
    }
   ],
   "source": [
    "subset_ratings_train['asin'].nunique()"
   ]
  },
  {
   "cell_type": "code",
   "execution_count": 56,
   "metadata": {},
   "outputs": [
    {
     "name": "stdout",
     "output_type": "stream",
     "text": [
      "(13393, 1)\n",
      "(1183, 1)\n"
     ]
    }
   ],
   "source": [
    "a=subset_ratings_train[['asin']]\n",
    "#print(a.shape)\n",
    "a=a.drop_duplicates()\n",
    "#print(a.shape)\n",
    "all_items_train=list(a.loc[:,'asin'])\n",
    "#print(all_items_train)\n",
    "ar=subset_ratings_train[['reviewerID']]\n",
    "print(ar.shape)\n",
    "ar=ar.drop_duplicates()\n",
    "print(ar.shape)\n",
    "all_users_train=list(ar.loc[:,'reviewerID'])\n",
    "#print(all_users_train)"
   ]
  },
  {
   "cell_type": "code",
   "execution_count": 57,
   "metadata": {},
   "outputs": [],
   "source": [
    "import random\n",
    "\n",
    "#choose 30 most frequent buyers\n",
    "maxrevs=subset_ratings_train.reviewerID.value_counts().reset_index()\n",
    "maxrevs_id=list(maxrevs.iloc[:30,0])\n",
    "maxrevs_id\n",
    "sampling_users = maxrevs_id"
   ]
  },
  {
   "cell_type": "code",
   "execution_count": 59,
   "metadata": {},
   "outputs": [
    {
     "data": {
      "text/html": [
       "<div>\n",
       "<style scoped>\n",
       "    .dataframe tbody tr th:only-of-type {\n",
       "        vertical-align: middle;\n",
       "    }\n",
       "\n",
       "    .dataframe tbody tr th {\n",
       "        vertical-align: top;\n",
       "    }\n",
       "\n",
       "    .dataframe thead th {\n",
       "        text-align: right;\n",
       "    }\n",
       "</style>\n",
       "<table border=\"1\" class=\"dataframe\">\n",
       "  <thead>\n",
       "    <tr style=\"text-align: right;\">\n",
       "      <th></th>\n",
       "      <th>reviewerID</th>\n",
       "    </tr>\n",
       "  </thead>\n",
       "  <tbody>\n",
       "    <tr>\n",
       "      <th>0</th>\n",
       "      <td>A9SINTLKCQK90</td>\n",
       "    </tr>\n",
       "    <tr>\n",
       "      <th>1</th>\n",
       "      <td>A2U53XJZLPQWX2</td>\n",
       "    </tr>\n",
       "    <tr>\n",
       "      <th>2</th>\n",
       "      <td>A1MHPGANXXGLC8</td>\n",
       "    </tr>\n",
       "    <tr>\n",
       "      <th>3</th>\n",
       "      <td>A3YVD62FSVIUJ</td>\n",
       "    </tr>\n",
       "    <tr>\n",
       "      <th>4</th>\n",
       "      <td>AO21QAFMIK124</td>\n",
       "    </tr>\n",
       "  </tbody>\n",
       "</table>\n",
       "</div>"
      ],
      "text/plain": [
       "       reviewerID\n",
       "0   A9SINTLKCQK90\n",
       "1  A2U53XJZLPQWX2\n",
       "2  A1MHPGANXXGLC8\n",
       "3   A3YVD62FSVIUJ\n",
       "4   AO21QAFMIK124"
      ]
     },
     "execution_count": 59,
     "metadata": {},
     "output_type": "execute_result"
    }
   ],
   "source": [
    "sampled_itemdf=pd.DataFrame(all_items_train,columns=['asin'])\n",
    "sampled_itemdf.head()\n",
    "sampling_usersdf=pd.DataFrame(sampling_users,columns=['reviewerID'])\n",
    "sampling_usersdf.head()"
   ]
  },
  {
   "cell_type": "code",
   "execution_count": 60,
   "metadata": {},
   "outputs": [
    {
     "data": {
      "text/plain": [
       "30"
      ]
     },
     "execution_count": 60,
     "metadata": {},
     "output_type": "execute_result"
    }
   ],
   "source": [
    "len(sampling_users)"
   ]
  },
  {
   "cell_type": "code",
   "execution_count": 61,
   "metadata": {},
   "outputs": [],
   "source": [
    "import itertools\n",
    "result= list(itertools.product( sampling_users,all_items_train))"
   ]
  },
  {
   "cell_type": "code",
   "execution_count": 62,
   "metadata": {},
   "outputs": [
    {
     "data": {
      "text/html": [
       "<div>\n",
       "<style scoped>\n",
       "    .dataframe tbody tr th:only-of-type {\n",
       "        vertical-align: middle;\n",
       "    }\n",
       "\n",
       "    .dataframe tbody tr th {\n",
       "        vertical-align: top;\n",
       "    }\n",
       "\n",
       "    .dataframe thead th {\n",
       "        text-align: right;\n",
       "    }\n",
       "</style>\n",
       "<table border=\"1\" class=\"dataframe\">\n",
       "  <thead>\n",
       "    <tr style=\"text-align: right;\">\n",
       "      <th></th>\n",
       "      <th>reviewerID</th>\n",
       "      <th>asin</th>\n",
       "    </tr>\n",
       "  </thead>\n",
       "  <tbody>\n",
       "    <tr>\n",
       "      <th>0</th>\n",
       "      <td>A9SINTLKCQK90</td>\n",
       "      <td>B0002F4UYU</td>\n",
       "    </tr>\n",
       "    <tr>\n",
       "      <th>1</th>\n",
       "      <td>A9SINTLKCQK90</td>\n",
       "      <td>B0002F52U6</td>\n",
       "    </tr>\n",
       "    <tr>\n",
       "      <th>2</th>\n",
       "      <td>A9SINTLKCQK90</td>\n",
       "      <td>B0002F7KG0</td>\n",
       "    </tr>\n",
       "    <tr>\n",
       "      <th>3</th>\n",
       "      <td>A9SINTLKCQK90</td>\n",
       "      <td>B000DZXTFK</td>\n",
       "    </tr>\n",
       "    <tr>\n",
       "      <th>4</th>\n",
       "      <td>A9SINTLKCQK90</td>\n",
       "      <td>B001MW9TF2</td>\n",
       "    </tr>\n",
       "  </tbody>\n",
       "</table>\n",
       "</div>"
      ],
      "text/plain": [
       "      reviewerID        asin\n",
       "0  A9SINTLKCQK90  B0002F4UYU\n",
       "1  A9SINTLKCQK90  B0002F52U6\n",
       "2  A9SINTLKCQK90  B0002F7KG0\n",
       "3  A9SINTLKCQK90  B000DZXTFK\n",
       "4  A9SINTLKCQK90  B001MW9TF2"
      ]
     },
     "execution_count": 62,
     "metadata": {},
     "output_type": "execute_result"
    }
   ],
   "source": [
    "resultdf=pd.DataFrame(result,columns=['reviewerID','asin'])\n",
    "resultdf.head()"
   ]
  },
  {
   "cell_type": "code",
   "execution_count": 63,
   "metadata": {},
   "outputs": [
    {
     "data": {
      "text/html": [
       "<div>\n",
       "<style scoped>\n",
       "    .dataframe tbody tr th:only-of-type {\n",
       "        vertical-align: middle;\n",
       "    }\n",
       "\n",
       "    .dataframe tbody tr th {\n",
       "        vertical-align: top;\n",
       "    }\n",
       "\n",
       "    .dataframe thead th {\n",
       "        text-align: right;\n",
       "    }\n",
       "</style>\n",
       "<table border=\"1\" class=\"dataframe\">\n",
       "  <thead>\n",
       "    <tr style=\"text-align: right;\">\n",
       "      <th></th>\n",
       "      <th>reviewerID</th>\n",
       "      <th>asin</th>\n",
       "      <th>overall</th>\n",
       "    </tr>\n",
       "  </thead>\n",
       "  <tbody>\n",
       "    <tr>\n",
       "      <th>0</th>\n",
       "      <td>A9SINTLKCQK90</td>\n",
       "      <td>B0002F4UYU</td>\n",
       "      <td>0</td>\n",
       "    </tr>\n",
       "    <tr>\n",
       "      <th>1</th>\n",
       "      <td>A9SINTLKCQK90</td>\n",
       "      <td>B0002F52U6</td>\n",
       "      <td>0</td>\n",
       "    </tr>\n",
       "    <tr>\n",
       "      <th>2</th>\n",
       "      <td>A9SINTLKCQK90</td>\n",
       "      <td>B0002F7KG0</td>\n",
       "      <td>0</td>\n",
       "    </tr>\n",
       "    <tr>\n",
       "      <th>3</th>\n",
       "      <td>A9SINTLKCQK90</td>\n",
       "      <td>B000DZXTFK</td>\n",
       "      <td>0</td>\n",
       "    </tr>\n",
       "    <tr>\n",
       "      <th>4</th>\n",
       "      <td>A9SINTLKCQK90</td>\n",
       "      <td>B001MW9TF2</td>\n",
       "      <td>0</td>\n",
       "    </tr>\n",
       "  </tbody>\n",
       "</table>\n",
       "</div>"
      ],
      "text/plain": [
       "      reviewerID        asin  overall\n",
       "0  A9SINTLKCQK90  B0002F4UYU        0\n",
       "1  A9SINTLKCQK90  B0002F52U6        0\n",
       "2  A9SINTLKCQK90  B0002F7KG0        0\n",
       "3  A9SINTLKCQK90  B000DZXTFK        0\n",
       "4  A9SINTLKCQK90  B001MW9TF2        0"
      ]
     },
     "execution_count": 63,
     "metadata": {},
     "output_type": "execute_result"
    }
   ],
   "source": [
    "resultdf.shape\n",
    "#this is test set \n",
    "resultdf['overall']=0\n",
    "resultdf.head()"
   ]
  },
  {
   "cell_type": "code",
   "execution_count": 64,
   "metadata": {},
   "outputs": [
    {
     "data": {
      "text/plain": [
       "(184380, 3)"
      ]
     },
     "execution_count": 64,
     "metadata": {},
     "output_type": "execute_result"
    }
   ],
   "source": [
    "resultdf.shape"
   ]
  },
  {
   "cell_type": "code",
   "execution_count": 65,
   "metadata": {},
   "outputs": [],
   "source": [
    "#create svd from subset rating :\n",
    "reader = Reader(rating_scale=(1,5)) \n",
    "data=Dataset.load_from_df(subset_ratings_train,reader)"
   ]
  },
  {
   "cell_type": "code",
   "execution_count": 66,
   "metadata": {},
   "outputs": [],
   "source": [
    "#trainset, testset = train_test_split(data, test_size=.25)\n",
    "trainset = data.build_full_trainset()"
   ]
  },
  {
   "cell_type": "code",
   "execution_count": 67,
   "metadata": {},
   "outputs": [],
   "source": [
    "#create concat df of test and antitestset.\n",
    "#trainset = trainset.build_full_trainset()\n",
    "#testset = trainset.build_anti_testset()\n",
    "testset=resultdf.copy()\n",
    "testset= Dataset.load_from_df(testset, reader=reader)\n",
    "testset = testset.build_full_trainset().build_testset()"
   ]
  },
  {
   "cell_type": "code",
   "execution_count": 83,
   "metadata": {},
   "outputs": [
    {
     "data": {
      "text/plain": [
       "'trainset = data.build_full_trainset()\\n#algo.fit(trainset)\\ntestset = trainset.build_anti_testset()'"
      ]
     },
     "execution_count": 83,
     "metadata": {},
     "output_type": "execute_result"
    }
   ],
   "source": [
    "'''trainset = data.build_full_trainset()\n",
    "#algo.fit(trainset)\n",
    "testset = trainset.build_anti_testset()'''"
   ]
  },
  {
   "cell_type": "code",
   "execution_count": 68,
   "metadata": {},
   "outputs": [
    {
     "name": "stdout",
     "output_type": "stream",
     "text": [
      "algorithm <surprise.prediction_algorithms.matrix_factorization.SVD object at 0x118385160>\n"
     ]
    },
    {
     "data": {
      "text/html": [
       "<div>\n",
       "<style scoped>\n",
       "    .dataframe tbody tr th:only-of-type {\n",
       "        vertical-align: middle;\n",
       "    }\n",
       "\n",
       "    .dataframe tbody tr th {\n",
       "        vertical-align: top;\n",
       "    }\n",
       "\n",
       "    .dataframe thead th {\n",
       "        text-align: right;\n",
       "    }\n",
       "</style>\n",
       "<table border=\"1\" class=\"dataframe\">\n",
       "  <thead>\n",
       "    <tr style=\"text-align: right;\">\n",
       "      <th></th>\n",
       "      <th>test_rmse</th>\n",
       "      <th>fit_time</th>\n",
       "      <th>test_time</th>\n",
       "    </tr>\n",
       "    <tr>\n",
       "      <th>Algorithm</th>\n",
       "      <th></th>\n",
       "      <th></th>\n",
       "      <th></th>\n",
       "    </tr>\n",
       "  </thead>\n",
       "  <tbody>\n",
       "    <tr>\n",
       "      <th>SVD</th>\n",
       "      <td>0.897276</td>\n",
       "      <td>0.493926</td>\n",
       "      <td>0.025379</td>\n",
       "    </tr>\n",
       "  </tbody>\n",
       "</table>\n",
       "</div>"
      ],
      "text/plain": [
       "           test_rmse  fit_time  test_time\n",
       "Algorithm                                \n",
       "SVD         0.897276  0.493926   0.025379"
      ]
     },
     "execution_count": 68,
     "metadata": {},
     "output_type": "execute_result"
    }
   ],
   "source": [
    "# lets try algorithms without any data reduction and see time and test rmse\n",
    "benchmark = []\n",
    "# Iterate over all algorithms\n",
    "for algorithm in [SVD()]:\n",
    "    # Perform cross validation\n",
    "    print(\"algorithm\",algorithm)\n",
    "    results = cross_validate(algorithm, data, measures=['RMSE'], cv=3, verbose=False)\n",
    "    \n",
    "    # Get results & append algorithm name\n",
    "    tmp = pd.DataFrame.from_dict(results).mean(axis=0)\n",
    "    tmp = tmp.append(pd.Series([str(algorithm).split(' ')[0].split('.')[-1]], index=['Algorithm']))\n",
    "    benchmark.append(tmp)\n",
    "    \n",
    "pd.DataFrame(benchmark).set_index('Algorithm').sort_values('test_rmse') \n"
   ]
  },
  {
   "cell_type": "code",
   "execution_count": 69,
   "metadata": {},
   "outputs": [],
   "source": [
    "#create a build training set ;\n",
    "#create a testing set - missing ratings \n",
    "\n",
    "#trainingset=data.build_full_trainset()\n",
    "#testset = trainingset.build_anti_testset()"
   ]
  },
  {
   "cell_type": "code",
   "execution_count": 70,
   "metadata": {},
   "outputs": [
    {
     "data": {
      "text/plain": [
       "<surprise.prediction_algorithms.matrix_factorization.SVD at 0x118379a20>"
      ]
     },
     "execution_count": 70,
     "metadata": {},
     "output_type": "execute_result"
    }
   ],
   "source": [
    "algo = SVD(n_factors=100)\n",
    "algo.fit(trainset)"
   ]
  },
  {
   "cell_type": "code",
   "execution_count": 71,
   "metadata": {},
   "outputs": [],
   "source": [
    "predictions = algo.test(testset)\n",
    "#accuracy.rmse(predictions, verbose=False)"
   ]
  },
  {
   "cell_type": "code",
   "execution_count": 72,
   "metadata": {},
   "outputs": [
    {
     "data": {
      "text/plain": [
       "184380"
      ]
     },
     "execution_count": 72,
     "metadata": {},
     "output_type": "execute_result"
    }
   ],
   "source": [
    "len(predictions)"
   ]
  },
  {
   "cell_type": "code",
   "execution_count": 133,
   "metadata": {},
   "outputs": [
    {
     "data": {
      "text/plain": [
       "[Prediction(uid='A9SINTLKCQK90', iid='B0002F4UYU', r_ui=0.0, est=4.426739238330217, details={'was_impossible': False}),\n",
       " Prediction(uid='A9SINTLKCQK90', iid='B0002F52U6', r_ui=0.0, est=3.5077037087912775, details={'was_impossible': False}),\n",
       " Prediction(uid='A9SINTLKCQK90', iid='B0002F7KG0', r_ui=0.0, est=4.637082736475524, details={'was_impossible': False}),\n",
       " Prediction(uid='A9SINTLKCQK90', iid='B000DZXTFK', r_ui=0.0, est=3.7840372979147685, details={'was_impossible': False}),\n",
       " Prediction(uid='A9SINTLKCQK90', iid='B001MW9TF2', r_ui=0.0, est=3.6114738657965146, details={'was_impossible': False}),\n",
       " Prediction(uid='A9SINTLKCQK90', iid='B003ZHP8IY', r_ui=0.0, est=4.458743856307638, details={'was_impossible': False}),\n",
       " Prediction(uid='A9SINTLKCQK90', iid='B00F9DQXSG', r_ui=0.0, est=4.348895016826446, details={'was_impossible': False}),\n",
       " Prediction(uid='A9SINTLKCQK90', iid='B00HEXV80M', r_ui=0.0, est=4.602451359780288, details={'was_impossible': False}),\n",
       " Prediction(uid='A9SINTLKCQK90', iid='B00IRMEZTK', r_ui=0.0, est=4.017063795506269, details={'was_impossible': False}),\n",
       " Prediction(uid='A9SINTLKCQK90', iid='B00KA6TZHI', r_ui=0.0, est=4.39236247382747, details={'was_impossible': False})]"
      ]
     },
     "execution_count": 133,
     "metadata": {},
     "output_type": "execute_result"
    }
   ],
   "source": [
    "predictions[:10]"
   ]
  },
  {
   "cell_type": "code",
   "execution_count": 74,
   "metadata": {},
   "outputs": [],
   "source": [
    "from collections import defaultdict\n",
    "def get_top_n(predictions, n=10):\n",
    "\n",
    "    # First map the predictions to each user.\n",
    "    top_n = defaultdict(list)\n",
    "    for uid, iid, true_r, est, _ in predictions:\n",
    "        top_n[uid].append((iid, est))\n",
    "\n",
    "    # Then sort the predictions for each user and retrieve the k highest ones.\n",
    "    for uid, user_ratings in top_n.items():\n",
    "        user_ratings.sort(key=lambda x: x[1], reverse=True)\n",
    "        top_n[uid] = user_ratings[:n]\n",
    "\n",
    "    return top_n"
   ]
  },
  {
   "cell_type": "code",
   "execution_count": 75,
   "metadata": {},
   "outputs": [],
   "source": [
    "top_n = get_top_n(predictions, n=10)"
   ]
  },
  {
   "cell_type": "code",
   "execution_count": 136,
   "metadata": {},
   "outputs": [],
   "source": [
    "#top_n"
   ]
  },
  {
   "cell_type": "code",
   "execution_count": 137,
   "metadata": {},
   "outputs": [
    {
     "name": "stdout",
     "output_type": "stream",
     "text": [
      "      reviewerID        item  predicted rating\n",
      "0  A9SINTLKCQK90  B0000AQRST          4.794425\n",
      "1  A9SINTLKCQK90  B01EJ9KI5O          4.748404\n",
      "2  A9SINTLKCQK90  B0002E1J3Q          4.713863\n",
      "3  A9SINTLKCQK90  B00TV90MT0          4.686630\n",
      "4  A9SINTLKCQK90  B01GMW448S          4.681089\n"
     ]
    }
   ],
   "source": [
    "L = [(k, *t) for k, v in top_n.items() for t in v]\n",
    "\n",
    "recommended_df = pd.DataFrame(L, columns=['reviewerID','item','predicted rating'])\n",
    "print (recommended_df.head())"
   ]
  },
  {
   "cell_type": "code",
   "execution_count": 78,
   "metadata": {},
   "outputs": [],
   "source": [
    "#itemdf= pd.DataFrame(itemslist, columns =['asin', 'overall'])\n",
    "#unique dict of item and their titles :\n",
    "itemdict=AppliancesmetaDf_cleaned[['asin','title']]\n",
    "itemdict=itemdict.drop_duplicates()\n",
    "itemdict=itemdict.set_index('asin').T\n",
    "itemdict=itemdict.to_dict('list')\n",
    "#itemdict['1906487049']\n",
    "catdict=AppliancesmetaDf_cleaned[['asin','main_cat']]\n",
    "catdict=catdict.drop_duplicates()\n",
    "catdict=catdict.set_index('asin').T\n",
    "catdict=catdict.to_dict('list')\n",
    "#catdict['1906487049']"
   ]
  },
  {
   "cell_type": "code",
   "execution_count": 79,
   "metadata": {},
   "outputs": [
    {
     "data": {
      "text/html": [
       "<div>\n",
       "<style scoped>\n",
       "    .dataframe tbody tr th:only-of-type {\n",
       "        vertical-align: middle;\n",
       "    }\n",
       "\n",
       "    .dataframe tbody tr th {\n",
       "        vertical-align: top;\n",
       "    }\n",
       "\n",
       "    .dataframe thead th {\n",
       "        text-align: right;\n",
       "    }\n",
       "</style>\n",
       "<table border=\"1\" class=\"dataframe\">\n",
       "  <thead>\n",
       "    <tr style=\"text-align: right;\">\n",
       "      <th></th>\n",
       "      <th>reviewerID</th>\n",
       "      <th>item</th>\n",
       "      <th>predicted rating</th>\n",
       "      <th>Item Name</th>\n",
       "      <th>Category Name</th>\n",
       "    </tr>\n",
       "  </thead>\n",
       "  <tbody>\n",
       "    <tr>\n",
       "      <th>0</th>\n",
       "      <td>A9SINTLKCQK90</td>\n",
       "      <td>B0000AQRST</td>\n",
       "      <td>4.794425</td>\n",
       "      <td>[Shure SM57-LC Cardioid Dynamic Microphone]</td>\n",
       "      <td>[Musical Instruments]</td>\n",
       "    </tr>\n",
       "    <tr>\n",
       "      <th>1</th>\n",
       "      <td>A9SINTLKCQK90</td>\n",
       "      <td>B01EJ9KI5O</td>\n",
       "      <td>4.748404</td>\n",
       "      <td>[Rinastore 6-String Acoustic &amp; Electric Guitar...</td>\n",
       "      <td>[Musical Instruments]</td>\n",
       "    </tr>\n",
       "    <tr>\n",
       "      <th>2</th>\n",
       "      <td>A9SINTLKCQK90</td>\n",
       "      <td>B0002E1J3Q</td>\n",
       "      <td>4.713863</td>\n",
       "      <td>[Ernie Ball Not Even Slinky Nickel Wound Set, ...</td>\n",
       "      <td>[Musical Instruments]</td>\n",
       "    </tr>\n",
       "    <tr>\n",
       "      <th>3</th>\n",
       "      <td>A9SINTLKCQK90</td>\n",
       "      <td>B00TV90MT0</td>\n",
       "      <td>4.686630</td>\n",
       "      <td>[Music Nomad MN206 Cradle Cube String Instrume...</td>\n",
       "      <td>[Musical Instruments]</td>\n",
       "    </tr>\n",
       "    <tr>\n",
       "      <th>4</th>\n",
       "      <td>A9SINTLKCQK90</td>\n",
       "      <td>B01GMW448S</td>\n",
       "      <td>4.681089</td>\n",
       "      <td>[Tibetan Singing Bowl Set By YAK THERAPY- Chak...</td>\n",
       "      <td>[Musical Instruments]</td>\n",
       "    </tr>\n",
       "  </tbody>\n",
       "</table>\n",
       "</div>"
      ],
      "text/plain": [
       "      reviewerID        item  predicted rating  \\\n",
       "0  A9SINTLKCQK90  B0000AQRST          4.794425   \n",
       "1  A9SINTLKCQK90  B01EJ9KI5O          4.748404   \n",
       "2  A9SINTLKCQK90  B0002E1J3Q          4.713863   \n",
       "3  A9SINTLKCQK90  B00TV90MT0          4.686630   \n",
       "4  A9SINTLKCQK90  B01GMW448S          4.681089   \n",
       "\n",
       "                                           Item Name          Category Name  \n",
       "0        [Shure SM57-LC Cardioid Dynamic Microphone]  [Musical Instruments]  \n",
       "1  [Rinastore 6-String Acoustic & Electric Guitar...  [Musical Instruments]  \n",
       "2  [Ernie Ball Not Even Slinky Nickel Wound Set, ...  [Musical Instruments]  \n",
       "3  [Music Nomad MN206 Cradle Cube String Instrume...  [Musical Instruments]  \n",
       "4  [Tibetan Singing Bowl Set By YAK THERAPY- Chak...  [Musical Instruments]  "
      ]
     },
     "execution_count": 79,
     "metadata": {},
     "output_type": "execute_result"
    }
   ],
   "source": [
    "recommended_df['Item Name']=recommended_df['item'].map(itemdict)\n",
    "recommended_df['Category Name']=recommended_df['item'].map(catdict)\n",
    "recommended_df.head()"
   ]
  },
  {
   "cell_type": "code",
   "execution_count": 80,
   "metadata": {},
   "outputs": [],
   "source": [
    "def pred_for_user(userid):\n",
    "    temp=recommended_df[recommended_df.reviewerID==userid]\n",
    "    return temp"
   ]
  },
  {
   "cell_type": "code",
   "execution_count": 81,
   "metadata": {},
   "outputs": [
    {
     "data": {
      "text/plain": [
       "\"userid='A11U6KGWNEIEKB'\\nsuggested=pred_for_user(userid)\\nprint(suggested['Item Name'],suggested['Category Name'],suggested['predicted rating'])\""
      ]
     },
     "execution_count": 81,
     "metadata": {},
     "output_type": "execute_result"
    }
   ],
   "source": [
    "'''userid='A11U6KGWNEIEKB'\n",
    "suggested=pred_for_user(userid)\n",
    "print(suggested['Item Name'],suggested['Category Name'],suggested['predicted rating'])'''"
   ]
  },
  {
   "cell_type": "code",
   "execution_count": 82,
   "metadata": {},
   "outputs": [],
   "source": [
    "def product_hist_for_user(userid):\n",
    "    products_history=subset_backup[subset_backup.reviewerID==userid]\n",
    "    products_history=products_history[['asin','overall']]\n",
    "    print(products_history.shape)\n",
    "    products_history=products_history.drop_duplicates(subset=['asin','overall'])\n",
    "    print(products_history.shape)\n",
    "    products_history=pd.DataFrame(products_history,columns=['asin','overall'])\n",
    "    products_history['Item Name']=products_history['asin'].map(itemdict)\n",
    "    products_history['main_cat']=products_history['asin'].map(catdict)\n",
    "    return products_history"
   ]
  },
  {
   "cell_type": "code",
   "execution_count": 84,
   "metadata": {},
   "outputs": [],
   "source": [
    "#trainingdf.head()"
   ]
  },
  {
   "cell_type": "code",
   "execution_count": 85,
   "metadata": {},
   "outputs": [],
   "source": [
    "def product_hist_for_user_training(userid):\n",
    "    products_history=trainset[subset_backup.reviewerID==userid]\n",
    "    products_history=products_history[['asin','overall']]\n",
    "    print(products_history.shape)\n",
    "    products_history=products_history.drop_duplicates(subset=['asin','overall'])\n",
    "    print(products_history.shape)\n",
    "    products_history=pd.DataFrame(products_history,columns=['asin','overall'])\n",
    "    products_history['Item Name']=products_history['asin'].map(itemdict)\n",
    "    products_history['main_cat']=products_history['asin'].map(catdict)\n",
    "    return products_history"
   ]
  },
  {
   "cell_type": "code",
   "execution_count": 86,
   "metadata": {},
   "outputs": [],
   "source": [
    "subset_backup=subset_ratings_train.copy()"
   ]
  },
  {
   "cell_type": "code",
   "execution_count": 87,
   "metadata": {},
   "outputs": [
    {
     "data": {
      "text/html": [
       "<div>\n",
       "<style scoped>\n",
       "    .dataframe tbody tr th:only-of-type {\n",
       "        vertical-align: middle;\n",
       "    }\n",
       "\n",
       "    .dataframe tbody tr th {\n",
       "        vertical-align: top;\n",
       "    }\n",
       "\n",
       "    .dataframe thead th {\n",
       "        text-align: right;\n",
       "    }\n",
       "</style>\n",
       "<table border=\"1\" class=\"dataframe\">\n",
       "  <thead>\n",
       "    <tr style=\"text-align: right;\">\n",
       "      <th></th>\n",
       "      <th>reviewerID</th>\n",
       "      <th>asin</th>\n",
       "      <th>overall</th>\n",
       "    </tr>\n",
       "  </thead>\n",
       "  <tbody>\n",
       "    <tr>\n",
       "      <th>0</th>\n",
       "      <td>A9SINTLKCQK90</td>\n",
       "      <td>B006CQ8PGC</td>\n",
       "      <td>5.0</td>\n",
       "    </tr>\n",
       "    <tr>\n",
       "      <th>1</th>\n",
       "      <td>A9SINTLKCQK90</td>\n",
       "      <td>B006DFJ4HQ</td>\n",
       "      <td>5.0</td>\n",
       "    </tr>\n",
       "    <tr>\n",
       "      <th>2</th>\n",
       "      <td>A9SINTLKCQK90</td>\n",
       "      <td>B006W2SFPW</td>\n",
       "      <td>4.0</td>\n",
       "    </tr>\n",
       "    <tr>\n",
       "      <th>3</th>\n",
       "      <td>A9SINTLKCQK90</td>\n",
       "      <td>B006YV31JG</td>\n",
       "      <td>2.0</td>\n",
       "    </tr>\n",
       "    <tr>\n",
       "      <th>4</th>\n",
       "      <td>A9SINTLKCQK90</td>\n",
       "      <td>B008M0B10I</td>\n",
       "      <td>3.0</td>\n",
       "    </tr>\n",
       "  </tbody>\n",
       "</table>\n",
       "</div>"
      ],
      "text/plain": [
       "      reviewerID        asin  overall\n",
       "0  A9SINTLKCQK90  B006CQ8PGC      5.0\n",
       "1  A9SINTLKCQK90  B006DFJ4HQ      5.0\n",
       "2  A9SINTLKCQK90  B006W2SFPW      4.0\n",
       "3  A9SINTLKCQK90  B006YV31JG      2.0\n",
       "4  A9SINTLKCQK90  B008M0B10I      3.0"
      ]
     },
     "execution_count": 87,
     "metadata": {},
     "output_type": "execute_result"
    }
   ],
   "source": [
    "subset_ratings_test=pd.read_csv('subset_ratings_test1.csv')\n",
    "subset_ratings_test=subset_ratings_test.iloc[:,1:]\n",
    "subset_ratings_test.head(5)"
   ]
  },
  {
   "cell_type": "code",
   "execution_count": 125,
   "metadata": {},
   "outputs": [],
   "source": [
    "'''recommended_df.head()\n",
    "recommended_df.to_csv('Recommended_Musical_Instruments.csv')'''"
   ]
  },
  {
   "cell_type": "code",
   "execution_count": 91,
   "metadata": {},
   "outputs": [
    {
     "data": {
      "text/plain": [
       "array(['A9SINTLKCQK90', 'A2U53XJZLPQWX2', 'A1MHPGANXXGLC8',\n",
       "       'A3YVD62FSVIUJ', 'AO21QAFMIK124', 'A396ELNTQDFYPO',\n",
       "       'A17Y6FE1XWX9MG', 'A1SXYKNFEGZMCG', 'AJORX8PDEWL7W',\n",
       "       'A1ZRMGNB5NZFQX', 'A3EATLL9FW7DJL', 'AQDUE9PHA7QRP',\n",
       "       'ASCOQL6HNN0OE', 'A67OJZLHBBUQ9', 'A2UZ219VYXN78J',\n",
       "       'A2MZ8IKTPCMKPT', 'A3HNKTVQO3B037', 'A59G70843Q9AI',\n",
       "       'A182VFGL9YR6SZ', 'AGHMAMHIW4CDQ', 'A22XP8CF9U631W',\n",
       "       'A265SU6RW4ZAPY', 'A2YUDQKESBIEEU', 'A2VDKEI5V937X4',\n",
       "       'A215GPS2IFRI7G', 'A2D6IKTQ6ET3MC', 'AKD1S6FHXAQJB',\n",
       "       'A15LAJVR0RX15T', 'A7BTFA87UO4TZ', 'A15UON6342H4YU'], dtype=object)"
      ]
     },
     "execution_count": 91,
     "metadata": {},
     "output_type": "execute_result"
    }
   ],
   "source": [
    "recommended_df.reviewerID.unique()"
   ]
  },
  {
   "cell_type": "code",
   "execution_count": 123,
   "metadata": {},
   "outputs": [
    {
     "data": {
      "text/html": [
       "<div>\n",
       "<style scoped>\n",
       "    .dataframe tbody tr th:only-of-type {\n",
       "        vertical-align: middle;\n",
       "    }\n",
       "\n",
       "    .dataframe tbody tr th {\n",
       "        vertical-align: top;\n",
       "    }\n",
       "\n",
       "    .dataframe thead th {\n",
       "        text-align: right;\n",
       "    }\n",
       "</style>\n",
       "<table border=\"1\" class=\"dataframe\">\n",
       "  <thead>\n",
       "    <tr style=\"text-align: right;\">\n",
       "      <th></th>\n",
       "      <th>reviewerID</th>\n",
       "      <th>asin</th>\n",
       "      <th>overall</th>\n",
       "    </tr>\n",
       "  </thead>\n",
       "  <tbody>\n",
       "    <tr>\n",
       "      <th>0</th>\n",
       "      <td>A9SINTLKCQK90</td>\n",
       "      <td>B006CQ8PGC</td>\n",
       "      <td>5.0</td>\n",
       "    </tr>\n",
       "    <tr>\n",
       "      <th>1</th>\n",
       "      <td>A9SINTLKCQK90</td>\n",
       "      <td>B006DFJ4HQ</td>\n",
       "      <td>5.0</td>\n",
       "    </tr>\n",
       "    <tr>\n",
       "      <th>2</th>\n",
       "      <td>A9SINTLKCQK90</td>\n",
       "      <td>B006W2SFPW</td>\n",
       "      <td>4.0</td>\n",
       "    </tr>\n",
       "    <tr>\n",
       "      <th>3</th>\n",
       "      <td>A9SINTLKCQK90</td>\n",
       "      <td>B006YV31JG</td>\n",
       "      <td>2.0</td>\n",
       "    </tr>\n",
       "    <tr>\n",
       "      <th>4</th>\n",
       "      <td>A9SINTLKCQK90</td>\n",
       "      <td>B008M0B10I</td>\n",
       "      <td>3.0</td>\n",
       "    </tr>\n",
       "  </tbody>\n",
       "</table>\n",
       "</div>"
      ],
      "text/plain": [
       "      reviewerID        asin  overall\n",
       "0  A9SINTLKCQK90  B006CQ8PGC      5.0\n",
       "1  A9SINTLKCQK90  B006DFJ4HQ      5.0\n",
       "2  A9SINTLKCQK90  B006W2SFPW      4.0\n",
       "3  A9SINTLKCQK90  B006YV31JG      2.0\n",
       "4  A9SINTLKCQK90  B008M0B10I      3.0"
      ]
     },
     "execution_count": 123,
     "metadata": {},
     "output_type": "execute_result"
    }
   ],
   "source": [
    "subset_ratings_test.head()"
   ]
  },
  {
   "cell_type": "code",
   "execution_count": 128,
   "metadata": {},
   "outputs": [
    {
     "data": {
      "text/plain": [
       "22"
      ]
     },
     "execution_count": 128,
     "metadata": {},
     "output_type": "execute_result"
    }
   ],
   "source": [
    "'''copy_items=subset_ratings_test.copy()\n",
    "copy_items['name']=copy_items.asin.map(itemdict)\n",
    "copy_items.head()\n",
    "copy_items.name.isnull().sum()'''"
   ]
  },
  {
   "cell_type": "code",
   "execution_count": 129,
   "metadata": {},
   "outputs": [],
   "source": [
    "#copy_items.to_csv('Bought_Musical_Instruments.csv')"
   ]
  },
  {
   "cell_type": "code",
   "execution_count": 121,
   "metadata": {},
   "outputs": [
    {
     "name": "stdout",
     "output_type": "stream",
     "text": [
      "7\n",
      "     itemsact                                               name\n",
      "0  B00O6ZM7YM                      [MAPEX Cymbal Stand (H200RB)]\n",
      "1  B00OY670QS  [Tascam DR-10X Plug-On Linear PCM Digital Reco...\n",
      "2  B00U5T6JNS  [IsoAcoustics Aperta Isolation Stands - Black ...\n",
      "3  B00UBD137K  [Goedrum GBD18 18\" Electric Kick Drum or Elect...\n",
      "4  B00W54Q6NY      [Goedrum T-Clamp for 1 1/2 inch (1.5\") Poles]\n",
      "5  B00XWL2VVK  [AC Power Filter Power Conditioner - WAudio AC...\n",
      "6  B01C8O2RF6                     [ddrum QSDBDP Bass Drum Pedal]\n"
     ]
    }
   ],
   "source": [
    "userid='A2D6IKTQ6ET3MC'\n",
    "subset_user=subset_ratings_test[subset_ratings_test.reviewerID==userid]\n",
    "items=subset_user.asin.unique()\n",
    "#items is actual bought list \n",
    "print(len(items))\n",
    "items=pd.DataFrame(items,columns=['itemsact'])\n",
    "items['name']=items.itemsact.map(itemdict)\n",
    "print(items)"
   ]
  },
  {
   "cell_type": "code",
   "execution_count": 122,
   "metadata": {},
   "outputs": [
    {
     "name": "stdout",
     "output_type": "stream",
     "text": [
      "250    [Kirlin Cable IWB-202BFGL-20/RO -20 feet- Stra...\n",
      "251    [Dunlop Tortex Sharp Guitar Picks 1.14mm Purpl...\n",
      "252    [ChromaCast CC-MINIGS Universal Folding Guitar...\n",
      "253    [D'Addario EXL120+ Nickel Wound Electric Guita...\n",
      "254                            [Fender Pickguard Screws]\n",
      "255    [Electro Harmonix Stereo Talking Machine w/2 6...\n",
      "256    [D'Addario EXL120-7 Nickel Wound 7-String Elec...\n",
      "257          [JJ Electronics Amplifier Tube (T-EL84-JJ)]\n",
      "258    [20 Feet (10 White/10 Black) Gavitt Cloth-cove...\n",
      "259                      [DrumDial Precision Drum Tuner]\n",
      "Name: Item Name, dtype: object 250    [Musical Instruments]\n",
      "251    [Musical Instruments]\n",
      "252    [Musical Instruments]\n",
      "253    [Musical Instruments]\n",
      "254    [Musical Instruments]\n",
      "255    [Musical Instruments]\n",
      "256    [Musical Instruments]\n",
      "257    [Musical Instruments]\n",
      "258    [Musical Instruments]\n",
      "259    [Musical Instruments]\n",
      "Name: Category Name, dtype: object 250    5.000000\n",
      "251    5.000000\n",
      "252    4.983107\n",
      "253    4.967541\n",
      "254    4.961239\n",
      "255    4.959031\n",
      "256    4.958476\n",
      "257    4.948100\n",
      "258    4.947779\n",
      "259    4.943552\n",
      "Name: predicted rating, dtype: float64\n"
     ]
    }
   ],
   "source": [
    "suggested=pred_for_user(userid)\n",
    "print(suggested['Item Name'],suggested['Category Name'],suggested['predicted rating'])"
   ]
  },
  {
   "cell_type": "code",
   "execution_count": 94,
   "metadata": {},
   "outputs": [
    {
     "name": "stdout",
     "output_type": "stream",
     "text": [
      "16\n",
      "      itemsact                                               name\n",
      "0   B006CQ8PGC                 [Classic Mini Djembe Drum 4\" X 8\"]\n",
      "1   B006DFJ4HQ  [Axatse African Shaker - Maraca, Rumba Shaker ...\n",
      "2   B006W2SFPW  [Meinl Percussion HDJ4-L Nile Series Headliner...\n",
      "3   B006YV31JG              [Cannon UPC9 9 1/2-Inch Mega Cowbell]\n",
      "4   B008M0B10I  [X8 Drums & Percussion X8-COVER-KENTE-3L Kente...\n",
      "5   B00BF7XD2Y  [Meinl Percussion FJS1A-BK Aluminum Finger Jin...\n",
      "6   B00F5DRWCG       [Tycoon Percussion TGO-L Agogo Bell - Large]\n",
      "7   B00G5LDS9I  [Latin Percussion LP601NY-CMW City Series Carv...\n",
      "8   B00GB0P094  [Latin Percussion LP243B Super Guiro Scraper -...\n",
      "9   B00HJOTFI8   [Latin Percussion LP446-S Session Shaker, Small]\n",
      "10  B00KHBPZGG  [DharmaObjects Tibetan Palm Size Solar Plexus ...\n",
      "11  B00OJQ9TJE           [ChromaCast CC-DS-CONGA Conga Drum Sack]\n",
      "12  B00Q2G2NTC  [Meinl Percussion Precision Cajon Brush with S...\n",
      "13  B017LW0NCY  [Thumb Piano Mbira Music Story Telling Instrum...\n",
      "14  B019M33OX0  [17 Pieces Acoustic Guitar Strings, Changing K...\n",
      "15  B01B1JI60Y  [Meinl Deluxe Cajon Seat with Extra Thick Padd...\n"
     ]
    }
   ],
   "source": [
    "#get actual test holdout items for the user \n",
    "userid='A9SINTLKCQK90'\n",
    "subset_user=subset_ratings_test[subset_ratings_test.reviewerID==userid]\n",
    "items=subset_user.asin.unique()\n",
    "#items is actual bought list \n",
    "print(len(items))\n",
    "items=pd.DataFrame(items,columns=['itemsact'])\n",
    "items['name']=items.itemsact.map(itemdict)\n",
    "print(items)"
   ]
  },
  {
   "cell_type": "code",
   "execution_count": 95,
   "metadata": {},
   "outputs": [
    {
     "name": "stdout",
     "output_type": "stream",
     "text": [
      "0          [Shure SM57-LC Cardioid Dynamic Microphone]\n",
      "1    [Rinastore 6-String Acoustic & Electric Guitar...\n",
      "2    [Ernie Ball Not Even Slinky Nickel Wound Set, ...\n",
      "3    [Music Nomad MN206 Cradle Cube String Instrume...\n",
      "4    [Tibetan Singing Bowl Set By YAK THERAPY- Chak...\n",
      "5    [Rotosound RS200 Top Tape Monel Flatwound Elec...\n",
      "6    [Neewer NW(B-3) 6 inch Studio Microphone Mic R...\n",
      "7    [60 Pack - Clear Empty Refillable Plastic Pot ...\n",
      "8      [Fulltone OCD Obsessive Compulsive Drive Pedal]\n",
      "9            [Hosa Technology GXR134 Signal Converter]\n",
      "Name: Item Name, dtype: object 0    [Musical Instruments]\n",
      "1    [Musical Instruments]\n",
      "2    [Musical Instruments]\n",
      "3    [Musical Instruments]\n",
      "4    [Musical Instruments]\n",
      "5    [Musical Instruments]\n",
      "6    [Musical Instruments]\n",
      "7             [All Beauty]\n",
      "8    [Musical Instruments]\n",
      "9    [Musical Instruments]\n",
      "Name: Category Name, dtype: object 0    4.794425\n",
      "1    4.748404\n",
      "2    4.713863\n",
      "3    4.686630\n",
      "4    4.681089\n",
      "5    4.666022\n",
      "6    4.652939\n",
      "7    4.651521\n",
      "8    4.649147\n",
      "9    4.641784\n",
      "Name: predicted rating, dtype: float64\n"
     ]
    }
   ],
   "source": [
    "suggested=pred_for_user(userid)\n",
    "print(suggested['Item Name'],suggested['Category Name'],suggested['predicted rating'])"
   ]
  },
  {
   "cell_type": "code",
   "execution_count": 96,
   "metadata": {},
   "outputs": [
    {
     "name": "stdout",
     "output_type": "stream",
     "text": [
      "16\n"
     ]
    }
   ],
   "source": [
    "#get actual test holdout items for the user \n",
    "userid='A9SINTLKCQK90'\n",
    "subset_user=subset_ratings_test[subset_ratings_test.reviewerID==userid]\n",
    "items=subset_user.asin.unique()\n",
    "#items is actual bought list \n",
    "print(len(items))"
   ]
  },
  {
   "cell_type": "code",
   "execution_count": 97,
   "metadata": {},
   "outputs": [
    {
     "name": "stdout",
     "output_type": "stream",
     "text": [
      "      itemsact                                               name\n",
      "0   B006CQ8PGC                 [Classic Mini Djembe Drum 4\" X 8\"]\n",
      "1   B006DFJ4HQ  [Axatse African Shaker - Maraca, Rumba Shaker ...\n",
      "2   B006W2SFPW  [Meinl Percussion HDJ4-L Nile Series Headliner...\n",
      "3   B006YV31JG              [Cannon UPC9 9 1/2-Inch Mega Cowbell]\n",
      "4   B008M0B10I  [X8 Drums & Percussion X8-COVER-KENTE-3L Kente...\n",
      "5   B00BF7XD2Y  [Meinl Percussion FJS1A-BK Aluminum Finger Jin...\n",
      "6   B00F5DRWCG       [Tycoon Percussion TGO-L Agogo Bell - Large]\n",
      "7   B00G5LDS9I  [Latin Percussion LP601NY-CMW City Series Carv...\n",
      "8   B00GB0P094  [Latin Percussion LP243B Super Guiro Scraper -...\n",
      "9   B00HJOTFI8   [Latin Percussion LP446-S Session Shaker, Small]\n",
      "10  B00KHBPZGG  [DharmaObjects Tibetan Palm Size Solar Plexus ...\n",
      "11  B00OJQ9TJE           [ChromaCast CC-DS-CONGA Conga Drum Sack]\n",
      "12  B00Q2G2NTC  [Meinl Percussion Precision Cajon Brush with S...\n",
      "13  B017LW0NCY  [Thumb Piano Mbira Music Story Telling Instrum...\n",
      "14  B019M33OX0  [17 Pieces Acoustic Guitar Strings, Changing K...\n",
      "15  B01B1JI60Y  [Meinl Deluxe Cajon Seat with Extra Thick Padd...\n"
     ]
    }
   ],
   "source": [
    "items=pd.DataFrame(items,columns=['itemsact'])\n",
    "items['name']=items.itemsact.map(itemdict)\n",
    "print(items)"
   ]
  },
  {
   "cell_type": "code",
   "execution_count": 133,
   "metadata": {},
   "outputs": [],
   "source": [
    "items.to_csv('user_A1K82R24ROO2I7_test_actual_items.csv')"
   ]
  },
  {
   "cell_type": "code",
   "execution_count": 98,
   "metadata": {},
   "outputs": [
    {
     "name": "stdout",
     "output_type": "stream",
     "text": [
      "0          [Shure SM57-LC Cardioid Dynamic Microphone]\n",
      "1    [Rinastore 6-String Acoustic & Electric Guitar...\n",
      "2    [Ernie Ball Not Even Slinky Nickel Wound Set, ...\n",
      "3    [Music Nomad MN206 Cradle Cube String Instrume...\n",
      "4    [Tibetan Singing Bowl Set By YAK THERAPY- Chak...\n",
      "5    [Rotosound RS200 Top Tape Monel Flatwound Elec...\n",
      "6    [Neewer NW(B-3) 6 inch Studio Microphone Mic R...\n",
      "7    [60 Pack - Clear Empty Refillable Plastic Pot ...\n",
      "8      [Fulltone OCD Obsessive Compulsive Drive Pedal]\n",
      "9            [Hosa Technology GXR134 Signal Converter]\n",
      "Name: Item Name, dtype: object 0    [Musical Instruments]\n",
      "1    [Musical Instruments]\n",
      "2    [Musical Instruments]\n",
      "3    [Musical Instruments]\n",
      "4    [Musical Instruments]\n",
      "5    [Musical Instruments]\n",
      "6    [Musical Instruments]\n",
      "7             [All Beauty]\n",
      "8    [Musical Instruments]\n",
      "9    [Musical Instruments]\n",
      "Name: Category Name, dtype: object 0    4.794425\n",
      "1    4.748404\n",
      "2    4.713863\n",
      "3    4.686630\n",
      "4    4.681089\n",
      "5    4.666022\n",
      "6    4.652939\n",
      "7    4.651521\n",
      "8    4.649147\n",
      "9    4.641784\n",
      "Name: predicted rating, dtype: float64\n"
     ]
    }
   ],
   "source": [
    "suggested=pred_for_user(userid)\n",
    "print(suggested['Item Name'],suggested['Category Name'],suggested['predicted rating'])"
   ]
  },
  {
   "cell_type": "code",
   "execution_count": 106,
   "metadata": {},
   "outputs": [
    {
     "data": {
      "text/plain": [
       "30"
      ]
     },
     "execution_count": 106,
     "metadata": {},
     "output_type": "execute_result"
    }
   ],
   "source": [
    "len(recommended_df.reviewerID.unique())"
   ]
  },
  {
   "cell_type": "code",
   "execution_count": 138,
   "metadata": {},
   "outputs": [],
   "source": [
    "#suggested.to_csv('suggested_A1K82R24ROO2I7_items_50_exhaustivelist.csv')"
   ]
  },
  {
   "cell_type": "code",
   "execution_count": 100,
   "metadata": {},
   "outputs": [
    {
     "name": "stderr",
     "output_type": "stream",
     "text": [
      "/Users/apoorvabanubakode/anaconda3/lib/python3.7/site-packages/ipykernel_launcher.py:2: SettingWithCopyWarning: \n",
      "A value is trying to be set on a copy of a slice from a DataFrame.\n",
      "Try using .loc[row_indexer,col_indexer] = value instead\n",
      "\n",
      "See the caveats in the documentation: http://pandas.pydata.org/pandas-docs/stable/indexing.html#indexing-view-versus-copy\n",
      "  \n"
     ]
    },
    {
     "data": {
      "text/html": [
       "<div>\n",
       "<style scoped>\n",
       "    .dataframe tbody tr th:only-of-type {\n",
       "        vertical-align: middle;\n",
       "    }\n",
       "\n",
       "    .dataframe tbody tr th {\n",
       "        vertical-align: top;\n",
       "    }\n",
       "\n",
       "    .dataframe thead th {\n",
       "        text-align: right;\n",
       "    }\n",
       "</style>\n",
       "<table border=\"1\" class=\"dataframe\">\n",
       "  <thead>\n",
       "    <tr style=\"text-align: right;\">\n",
       "      <th></th>\n",
       "      <th>reviewerID</th>\n",
       "      <th>asin</th>\n",
       "      <th>overall</th>\n",
       "      <th>name</th>\n",
       "    </tr>\n",
       "  </thead>\n",
       "  <tbody>\n",
       "    <tr>\n",
       "      <th>0</th>\n",
       "      <td>A9SINTLKCQK90</td>\n",
       "      <td>B0002F4UYU</td>\n",
       "      <td>5.0</td>\n",
       "      <td>[Rhythm Tech Cabasa, Chrome (RT8000)]</td>\n",
       "    </tr>\n",
       "    <tr>\n",
       "      <th>1</th>\n",
       "      <td>A9SINTLKCQK90</td>\n",
       "      <td>B0002F52U6</td>\n",
       "      <td>3.0</td>\n",
       "      <td>[CP378 8\" Wood Tambourine, Headed, Single Row ...</td>\n",
       "    </tr>\n",
       "    <tr>\n",
       "      <th>2</th>\n",
       "      <td>A9SINTLKCQK90</td>\n",
       "      <td>B0002F7KG0</td>\n",
       "      <td>5.0</td>\n",
       "      <td>[Remo HD-8512-00 Fiberskyn Frame Drum, 12\"]</td>\n",
       "    </tr>\n",
       "    <tr>\n",
       "      <th>3</th>\n",
       "      <td>A9SINTLKCQK90</td>\n",
       "      <td>B000DZXTFK</td>\n",
       "      <td>3.0</td>\n",
       "      <td>[Bodhran Economy Case, 16\" x 4.5\"]</td>\n",
       "    </tr>\n",
       "    <tr>\n",
       "      <th>4</th>\n",
       "      <td>A9SINTLKCQK90</td>\n",
       "      <td>B001MW9TF2</td>\n",
       "      <td>2.0</td>\n",
       "      <td>NaN</td>\n",
       "    </tr>\n",
       "  </tbody>\n",
       "</table>\n",
       "</div>"
      ],
      "text/plain": [
       "      reviewerID        asin  overall  \\\n",
       "0  A9SINTLKCQK90  B0002F4UYU      5.0   \n",
       "1  A9SINTLKCQK90  B0002F52U6      3.0   \n",
       "2  A9SINTLKCQK90  B0002F7KG0      5.0   \n",
       "3  A9SINTLKCQK90  B000DZXTFK      3.0   \n",
       "4  A9SINTLKCQK90  B001MW9TF2      2.0   \n",
       "\n",
       "                                                name  \n",
       "0              [Rhythm Tech Cabasa, Chrome (RT8000)]  \n",
       "1  [CP378 8\" Wood Tambourine, Headed, Single Row ...  \n",
       "2        [Remo HD-8512-00 Fiberskyn Frame Drum, 12\"]  \n",
       "3                 [Bodhran Economy Case, 16\" x 4.5\"]  \n",
       "4                                                NaN  "
      ]
     },
     "execution_count": 100,
     "metadata": {},
     "output_type": "execute_result"
    }
   ],
   "source": [
    "alreadypurchased=subset_ratings_train[subset_ratings_train.reviewerID=='A9SINTLKCQK90']\n",
    "alreadypurchased['name']=alreadypurchased['asin'].map(itemdict)\n",
    "alreadypurchased.head()"
   ]
  },
  {
   "cell_type": "code",
   "execution_count": 143,
   "metadata": {},
   "outputs": [],
   "source": [
    "#alreadypurchased.to_csv('alreadypurchased_A1K82R24ROO2I7_items.csv')"
   ]
  },
  {
   "cell_type": "code",
   "execution_count": 105,
   "metadata": {},
   "outputs": [],
   "source": [
    "unique_items_suggested=suggested.item.unique()"
   ]
  },
  {
   "cell_type": "code",
   "execution_count": 138,
   "metadata": {},
   "outputs": [],
   "source": [
    "#items"
   ]
  },
  {
   "cell_type": "code",
   "execution_count": 139,
   "metadata": {},
   "outputs": [],
   "source": [
    "#unique_items_suggested"
   ]
  },
  {
   "cell_type": "code",
   "execution_count": 71,
   "metadata": {},
   "outputs": [],
   "source": [
    "#After looking at the recommendations manually, we saw that though he exact brands did not overlap in test holdout data and "
   ]
  },
  {
   "cell_type": "code",
   "execution_count": null,
   "metadata": {},
   "outputs": [],
   "source": []
  }
 ],
 "metadata": {
  "kernelspec": {
   "display_name": "Python 3",
   "language": "python",
   "name": "python3"
  },
  "language_info": {
   "codemirror_mode": {
    "name": "ipython",
    "version": 3
   },
   "file_extension": ".py",
   "mimetype": "text/x-python",
   "name": "python",
   "nbconvert_exporter": "python",
   "pygments_lexer": "ipython3",
   "version": "3.7.3"
  }
 },
 "nbformat": 4,
 "nbformat_minor": 2
}
