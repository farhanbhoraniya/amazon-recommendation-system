{
  "nbformat": 4,
  "nbformat_minor": 0,
  "metadata": {
    "colab": {
      "name": "Content based.ipynb",
      "provenance": []
    },
    "kernelspec": {
      "name": "python3",
      "display_name": "Python 3"
    }
  },
  "cells": [
    {
      "cell_type": "code",
      "metadata": {
        "id": "OgqBiWrn-veA",
        "colab_type": "code",
        "colab": {}
      },
      "source": [
        "import json\n",
        "import pandas as pd\n",
        "\n",
        "with open(\"meta_Musical_Instruments.json\") as f:\n",
        "    meatadata_json_data = [json.loads(line) for line in f]"
      ],
      "execution_count": 0,
      "outputs": []
    },
    {
      "cell_type": "code",
      "metadata": {
        "id": "nSVC0aKf--nW",
        "colab_type": "code",
        "colab": {}
      },
      "source": [
        "df_metadata = pd.DataFrame(meatadata_json_data)\n",
        "df_metadata = df_metadata[['asin','description']]"
      ],
      "execution_count": 0,
      "outputs": []
    },
    {
      "cell_type": "code",
      "metadata": {
        "id": "pbsTRTis_SHI",
        "colab_type": "code",
        "colab": {}
      },
      "source": [
        "import re\n",
        "regEx = re.compile('[^a-z]+')\n",
        "def cleanReviews(reviewText):\n",
        "    if isinstance(reviewText, list):\n",
        "      reviewText = ''.join(reviewText)\n",
        "    reviewText = reviewText.lower()\n",
        "    reviewText = regEx.sub(' ', reviewText).strip()\n",
        "    return reviewText"
      ],
      "execution_count": 0,
      "outputs": []
    },
    {
      "cell_type": "code",
      "metadata": {
        "id": "JnmwfPsd_hup",
        "colab_type": "code",
        "colab": {}
      },
      "source": [
        "df_metadata = df_metadata.drop_duplicates(\"asin\", keep=\"last\")\n"
      ],
      "execution_count": 0,
      "outputs": []
    },
    {
      "cell_type": "code",
      "metadata": {
        "id": "Eyn_W0cJ_lPL",
        "colab_type": "code",
        "colab": {
          "base_uri": "https://localhost:8080/",
          "height": 67
        },
        "outputId": "38567502-134b-4038-cf89-ebe9117dee3c"
      },
      "source": [
        "df_metadata = df_metadata.dropna(subset=['description'])\n",
        "df_metadata.count()"
      ],
      "execution_count": 13,
      "outputs": [
        {
          "output_type": "execute_result",
          "data": {
            "text/plain": [
              "asin           102479\n",
              "description    102479\n",
              "dtype: int64"
            ]
          },
          "metadata": {
            "tags": []
          },
          "execution_count": 13
        }
      ]
    },
    {
      "cell_type": "code",
      "metadata": {
        "id": "wfsMMRsr_sWA",
        "colab_type": "code",
        "colab": {}
      },
      "source": [
        "df_metadata[\"description_clean\"] = df_metadata[\"description\"].apply(cleanReviews)\n",
        "del df_metadata[\"description\"]"
      ],
      "execution_count": 0,
      "outputs": []
    },
    {
      "cell_type": "code",
      "metadata": {
        "id": "epDU43y7_w5a",
        "colab_type": "code",
        "colab": {
          "base_uri": "https://localhost:8080/",
          "height": 402
        },
        "outputId": "f92374c2-5010-403b-f17f-4727ea5db328"
      },
      "source": [
        "df_metadata.reset_index(inplace=True, drop=False)\n",
        "df_metadata"
      ],
      "execution_count": 23,
      "outputs": [
        {
          "output_type": "execute_result",
          "data": {
            "text/html": [
              "<div>\n",
              "<style scoped>\n",
              "    .dataframe tbody tr th:only-of-type {\n",
              "        vertical-align: middle;\n",
              "    }\n",
              "\n",
              "    .dataframe tbody tr th {\n",
              "        vertical-align: top;\n",
              "    }\n",
              "\n",
              "    .dataframe thead th {\n",
              "        text-align: right;\n",
              "    }\n",
              "</style>\n",
              "<table border=\"1\" class=\"dataframe\">\n",
              "  <thead>\n",
              "    <tr style=\"text-align: right;\">\n",
              "      <th></th>\n",
              "      <th>index</th>\n",
              "      <th>asin</th>\n",
              "      <th>description_clean</th>\n",
              "    </tr>\n",
              "  </thead>\n",
              "  <tbody>\n",
              "    <tr>\n",
              "      <th>0</th>\n",
              "      <td>0</td>\n",
              "      <td>0000989983</td>\n",
              "      <td>cricket rubbing the spine with the wooden stic...</td>\n",
              "    </tr>\n",
              "    <tr>\n",
              "      <th>1</th>\n",
              "      <td>1</td>\n",
              "      <td>0000098906</td>\n",
              "      <td>frog rubbing its spine with the wooden stick u...</td>\n",
              "    </tr>\n",
              "    <tr>\n",
              "      <th>2</th>\n",
              "      <td>2</td>\n",
              "      <td>0041291905</td>\n",
              "      <td>vivaldi s famous set of four violin concertos ...</td>\n",
              "    </tr>\n",
              "    <tr>\n",
              "      <th>3</th>\n",
              "      <td>3</td>\n",
              "      <td>0060015500</td>\n",
              "      <td>the turn of the screw op vocal score published...</td>\n",
              "    </tr>\n",
              "    <tr>\n",
              "      <th>4</th>\n",
              "      <td>5</td>\n",
              "      <td>0470536454</td>\n",
              "      <td>an updated classic covering the latest techniq...</td>\n",
              "    </tr>\n",
              "    <tr>\n",
              "      <th>...</th>\n",
              "      <td>...</td>\n",
              "      <td>...</td>\n",
              "      <td>...</td>\n",
              "    </tr>\n",
              "    <tr>\n",
              "      <th>102474</th>\n",
              "      <td>120395</td>\n",
              "      <td>B01HJDOF2Y</td>\n",
              "      <td>this packages includes pcs pdt true bypass swi...</td>\n",
              "    </tr>\n",
              "    <tr>\n",
              "      <th>102475</th>\n",
              "      <td>120396</td>\n",
              "      <td>B01HJDJ1PA</td>\n",
              "      <td>this packages includes pcs pdt true bypass swi...</td>\n",
              "    </tr>\n",
              "    <tr>\n",
              "      <th>102476</th>\n",
              "      <td>120397</td>\n",
              "      <td>B01HJEFFTK</td>\n",
              "      <td>these high quality clear crystal singing bowls...</td>\n",
              "    </tr>\n",
              "    <tr>\n",
              "      <th>102477</th>\n",
              "      <td>120398</td>\n",
              "      <td>B01HJEHEH6</td>\n",
              "      <td>frog rubbing its spine with the wooden stick u...</td>\n",
              "    </tr>\n",
              "    <tr>\n",
              "      <th>102478</th>\n",
              "      <td>120399</td>\n",
              "      <td>B01HJETSF2</td>\n",
              "      <td>want a sense of security to not dropping your ...</td>\n",
              "    </tr>\n",
              "  </tbody>\n",
              "</table>\n",
              "<p>102479 rows × 3 columns</p>\n",
              "</div>"
            ],
            "text/plain": [
              "         index        asin                                  description_clean\n",
              "0            0  0000989983  cricket rubbing the spine with the wooden stic...\n",
              "1            1  0000098906  frog rubbing its spine with the wooden stick u...\n",
              "2            2  0041291905  vivaldi s famous set of four violin concertos ...\n",
              "3            3  0060015500  the turn of the screw op vocal score published...\n",
              "4            5  0470536454  an updated classic covering the latest techniq...\n",
              "...        ...         ...                                                ...\n",
              "102474  120395  B01HJDOF2Y  this packages includes pcs pdt true bypass swi...\n",
              "102475  120396  B01HJDJ1PA  this packages includes pcs pdt true bypass swi...\n",
              "102476  120397  B01HJEFFTK  these high quality clear crystal singing bowls...\n",
              "102477  120398  B01HJEHEH6  frog rubbing its spine with the wooden stick u...\n",
              "102478  120399  B01HJETSF2  want a sense of security to not dropping your ...\n",
              "\n",
              "[102479 rows x 3 columns]"
            ]
          },
          "metadata": {
            "tags": []
          },
          "execution_count": 23
        }
      ]
    },
    {
      "cell_type": "code",
      "metadata": {
        "id": "XQs1pjgH_yqd",
        "colab_type": "code",
        "colab": {}
      },
      "source": [
        "from sklearn.feature_extraction.text import CountVectorizer, TfidfTransformer\n",
        "\n",
        "description = df_metadata[\"description_clean\"]\n",
        "countVector = CountVectorizer(max_features = 1000, stop_words='english') \n",
        "transformedDescription = countVector.fit_transform(description) \n",
        "\n",
        "dfDescription = pd.DataFrame(transformedDescription.A, columns=countVector.get_feature_names())"
      ],
      "execution_count": 0,
      "outputs": []
    },
    {
      "cell_type": "code",
      "metadata": {
        "id": "bBuJYxP6_4Et",
        "colab_type": "code",
        "colab": {}
      },
      "source": [
        "import numpy as np\n",
        "X = np.array(dfDescription)\n",
        " # create train and test\n",
        "tpercent = 0.9\n",
        "tsize = int(np.floor(tpercent * len(dfDescription)))\n",
        "dfDescription_train = X[:tsize]\n",
        "dfDescription_test = X[tsize:]\n",
        "#len of train and test\n",
        "lentrain = len(dfDescription_train)\n",
        "lentest = len(dfDescription_test)"
      ],
      "execution_count": 0,
      "outputs": []
    },
    {
      "cell_type": "code",
      "metadata": {
        "id": "s6FxuMcC_83a",
        "colab_type": "code",
        "colab": {}
      },
      "source": [
        "from sklearn.neighbors import NearestNeighbors\n",
        "neighbor = NearestNeighbors(n_neighbors=10, algorithm='ball_tree').fit(dfDescription_train)"
      ],
      "execution_count": 0,
      "outputs": []
    },
    {
      "cell_type": "code",
      "metadata": {
        "id": "A9OVH3rl_-eN",
        "colab_type": "code",
        "colab": {
          "base_uri": "https://localhost:8080/",
          "height": 202
        },
        "outputId": "8434c3a8-f9e5-490d-d8e9-316ef14941ac"
      },
      "source": [
        "i = 4\n",
        "a = neighbor.kneighbors([dfDescription_test[i]])\n",
        "related_product_list = a[1]\n",
        "for item in related_product_list:\n",
        "  # if df_metadatat\n",
        "  print(df_metadata[\"asin\"][item])"
      ],
      "execution_count": 27,
      "outputs": [
        {
          "output_type": "stream",
          "text": [
            "81464    B00QHTR268\n",
            "80495    B00PADLU24\n",
            "81463    B00QHSQKZI\n",
            "80600    B00PECQR7Y\n",
            "80416    B00P7E5UZE\n",
            "80418    B00P7EH2IM\n",
            "84174    B00TY640E8\n",
            "92196    B015C8DFIS\n",
            "92198    B015C8JOGU\n",
            "92187    B015BQ97OW\n",
            "Name: asin, dtype: object\n"
          ],
          "name": "stdout"
        }
      ]
    },
    {
      "cell_type": "code",
      "metadata": {
        "id": "i9urXUMTAUck",
        "colab_type": "code",
        "colab": {}
      },
      "source": [
        ""
      ],
      "execution_count": 0,
      "outputs": []
    }
  ]
}