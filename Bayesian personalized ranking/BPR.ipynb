{
  "nbformat": 4,
  "nbformat_minor": 0,
  "metadata": {
    "colab": {
      "name": "BPR.ipynb",
      "provenance": []
    },
    "kernelspec": {
      "name": "python3",
      "display_name": "Python 3"
    }
  },
  "cells": [
    {
      "cell_type": "markdown",
      "metadata": {
        "id": "mqJVhuuhZh6F",
        "colab_type": "text"
      },
      "source": [
        "# Reference\n",
        "https://github.com/ethen8181/machine-learning/blob/master/recsys/4_bpr.ipynb\n",
        "\n",
        "https://towardsdatascience.com/recommender-system-using-bayesian-personalized-ranking-d30e98bba0b9"
      ]
    },
    {
      "cell_type": "code",
      "metadata": {
        "id": "ZA-weooj2C0y",
        "colab_type": "code",
        "colab": {}
      },
      "source": [
        "import sys\n",
        "import numpy as np\n",
        "import pandas as pd\n",
        "from math import ceil\n",
        "from tqdm import trange\n",
        "from subprocess import call\n",
        "from itertools import islice\n",
        "from sklearn.metrics import roc_auc_score\n",
        "from sklearn.preprocessing import normalize\n",
        "from sklearn.neighbors import NearestNeighbors\n",
        "from scipy.sparse import csr_matrix, dok_matrix\n",
        "import json"
      ],
      "execution_count": 0,
      "outputs": []
    },
    {
      "cell_type": "code",
      "metadata": {
        "id": "GVwLXfuj2EjG",
        "colab_type": "code",
        "colab": {}
      },
      "source": [
        "with open(\"Musical_Instruments.json\") as f:\n",
        "  review_json_data = [json.loads(line) for line in f]"
      ],
      "execution_count": 0,
      "outputs": []
    },
    {
      "cell_type": "code",
      "metadata": {
        "id": "InSYZUmA2GBQ",
        "colab_type": "code",
        "colab": {}
      },
      "source": [
        "AppliancesDf = pd.DataFrame(review_json_data)"
      ],
      "execution_count": 0,
      "outputs": []
    },
    {
      "cell_type": "code",
      "metadata": {
        "id": "L1lspNjh2HmK",
        "colab_type": "code",
        "colab": {}
      },
      "source": [
        "subset_ratings=AppliancesDf[['asin','reviewTime','reviewerID','verified','overall','reviewText']]"
      ],
      "execution_count": 0,
      "outputs": []
    },
    {
      "cell_type": "code",
      "metadata": {
        "id": "07OO3hfm2KqF",
        "colab_type": "code",
        "colab": {
          "base_uri": "https://localhost:8080/",
          "height": 195
        },
        "outputId": "c7348559-5eb9-4e21-faf2-7736ebf72d97"
      },
      "source": [
        "subset_ratings=subset_ratings[subset_ratings.verified==True]\n",
        "subset_ratings['reviewDate']=pd.to_datetime(subset_ratings['reviewTime'])\n",
        "subset_ratings.head()"
      ],
      "execution_count": 7,
      "outputs": [
        {
          "output_type": "execute_result",
          "data": {
            "text/html": [
              "<div>\n",
              "<style scoped>\n",
              "    .dataframe tbody tr th:only-of-type {\n",
              "        vertical-align: middle;\n",
              "    }\n",
              "\n",
              "    .dataframe tbody tr th {\n",
              "        vertical-align: top;\n",
              "    }\n",
              "\n",
              "    .dataframe thead th {\n",
              "        text-align: right;\n",
              "    }\n",
              "</style>\n",
              "<table border=\"1\" class=\"dataframe\">\n",
              "  <thead>\n",
              "    <tr style=\"text-align: right;\">\n",
              "      <th></th>\n",
              "      <th>asin</th>\n",
              "      <th>reviewTime</th>\n",
              "      <th>reviewerID</th>\n",
              "      <th>verified</th>\n",
              "      <th>overall</th>\n",
              "      <th>reviewText</th>\n",
              "      <th>reviewDate</th>\n",
              "    </tr>\n",
              "  </thead>\n",
              "  <tbody>\n",
              "    <tr>\n",
              "      <th>1</th>\n",
              "      <td>0470536454</td>\n",
              "      <td>04 6, 2017</td>\n",
              "      <td>A29OWR79AM796H</td>\n",
              "      <td>True</td>\n",
              "      <td>4.0</td>\n",
              "      <td>Very helpful...</td>\n",
              "      <td>2017-04-06</td>\n",
              "    </tr>\n",
              "    <tr>\n",
              "      <th>2</th>\n",
              "      <td>0470536454</td>\n",
              "      <td>03 14, 2017</td>\n",
              "      <td>AUPWU27A7X5F6</td>\n",
              "      <td>True</td>\n",
              "      <td>5.0</td>\n",
              "      <td>EASY TO UNDERSTAND AND A PROMPT SERVICE TOO</td>\n",
              "      <td>2017-03-14</td>\n",
              "    </tr>\n",
              "    <tr>\n",
              "      <th>3</th>\n",
              "      <td>0470536454</td>\n",
              "      <td>02 14, 2017</td>\n",
              "      <td>A1N69A47D4JO6K</td>\n",
              "      <td>True</td>\n",
              "      <td>4.0</td>\n",
              "      <td>My girlfriend use quite often</td>\n",
              "      <td>2017-02-14</td>\n",
              "    </tr>\n",
              "    <tr>\n",
              "      <th>4</th>\n",
              "      <td>0470536454</td>\n",
              "      <td>01 29, 2017</td>\n",
              "      <td>AHTIQUMVCGBFJ</td>\n",
              "      <td>True</td>\n",
              "      <td>5.0</td>\n",
              "      <td>Arrived as described. Very happy.</td>\n",
              "      <td>2017-01-29</td>\n",
              "    </tr>\n",
              "    <tr>\n",
              "      <th>5</th>\n",
              "      <td>0470536454</td>\n",
              "      <td>01 4, 2017</td>\n",
              "      <td>A1J8LQ7HVLR9GU</td>\n",
              "      <td>True</td>\n",
              "      <td>5.0</td>\n",
              "      <td>Love the Dummies Series.  Never fails.</td>\n",
              "      <td>2017-01-04</td>\n",
              "    </tr>\n",
              "  </tbody>\n",
              "</table>\n",
              "</div>"
            ],
            "text/plain": [
              "         asin  ... reviewDate\n",
              "1  0470536454  ... 2017-04-06\n",
              "2  0470536454  ... 2017-03-14\n",
              "3  0470536454  ... 2017-02-14\n",
              "4  0470536454  ... 2017-01-29\n",
              "5  0470536454  ... 2017-01-04\n",
              "\n",
              "[5 rows x 7 columns]"
            ]
          },
          "metadata": {
            "tags": []
          },
          "execution_count": 7
        }
      ]
    },
    {
      "cell_type": "code",
      "metadata": {
        "id": "3CPoIkhR2Ma6",
        "colab_type": "code",
        "colab": {}
      },
      "source": [
        "subset_ratings=subset_ratings[subset_ratings.reviewDate>='2018-01-01']\n",
        "subset_ratings=subset_ratings.drop_duplicates(subset=['asin','reviewerID','reviewDate'],keep='last')\n",
        "subset_ratings=subset_ratings[['reviewerID','asin','overall']]\n",
        "subset_ratings.shape"
      ],
      "execution_count": 0,
      "outputs": []
    },
    {
      "cell_type": "code",
      "metadata": {
        "id": "EWeGtYbE2Yft",
        "colab_type": "code",
        "colab": {
          "base_uri": "https://localhost:8080/",
          "height": 185
        },
        "outputId": "016471e2-f00c-4fa0-ac59-6f8d3724ca86"
      },
      "source": [
        "no_of_products_reviewed=subset_ratings.asin.value_counts()\n",
        "no_of_products_reviewed.describe([.95,.97,.99])"
      ],
      "execution_count": 11,
      "outputs": [
        {
          "output_type": "execute_result",
          "data": {
            "text/plain": [
              "count    26104.000000\n",
              "mean         4.778501\n",
              "std         16.379560\n",
              "min          1.000000\n",
              "50%          1.000000\n",
              "95%         16.000000\n",
              "97%         24.000000\n",
              "99%         60.000000\n",
              "max        482.000000\n",
              "Name: asin, dtype: float64"
            ]
          },
          "metadata": {
            "tags": []
          },
          "execution_count": 11
        }
      ]
    },
    {
      "cell_type": "code",
      "metadata": {
        "id": "n2nU8OtD2cSW",
        "colab_type": "code",
        "colab": {
          "base_uri": "https://localhost:8080/",
          "height": 185
        },
        "outputId": "93debf8b-1ef2-4699-8bba-00e4e9cff7cd"
      },
      "source": [
        "review_per_user_counts=subset_ratings.reviewerID.value_counts()\n",
        "review_per_user_counts.describe([.95,.97,.99]) # unique user count is 300070"
      ],
      "execution_count": 12,
      "outputs": [
        {
          "output_type": "execute_result",
          "data": {
            "text/plain": [
              "count    94918.000000\n",
              "mean         1.314166\n",
              "std          1.038811\n",
              "min          1.000000\n",
              "50%          1.000000\n",
              "95%          3.000000\n",
              "97%          4.000000\n",
              "99%          6.000000\n",
              "max         57.000000\n",
              "Name: reviewerID, dtype: float64"
            ]
          },
          "metadata": {
            "tags": []
          },
          "execution_count": 12
        }
      ]
    },
    {
      "cell_type": "code",
      "metadata": {
        "id": "H-pp4j-C2eWw",
        "colab_type": "code",
        "colab": {}
      },
      "source": [
        "filtered_users=review_per_user_counts[review_per_user_counts>=3].reset_index()\n",
        "filtered_users=filtered_users['index'].tolist()"
      ],
      "execution_count": 0,
      "outputs": []
    },
    {
      "cell_type": "code",
      "metadata": {
        "id": "Bc4ehWgf2lTv",
        "colab_type": "code",
        "colab": {}
      },
      "source": [
        "subset_backup=subset_ratings.copy()\n",
        "subset_ratings=subset_ratings[subset_ratings.reviewerID.isin(filtered_users)]\n",
        "subset_ratings"
      ],
      "execution_count": 0,
      "outputs": []
    },
    {
      "cell_type": "code",
      "metadata": {
        "id": "tH7wFfeG2yJ9",
        "colab_type": "code",
        "colab": {
          "base_uri": "https://localhost:8080/",
          "height": 1000
        },
        "outputId": "fc8ab689-9ffd-4332-b1b2-f5960c6b7f48"
      },
      "source": [
        "val=subset_ratings.reviewerID.value_counts()\n",
        "val=val.reset_index()\n",
        "owners_10ormore=val[val.reviewerID>=10]\n",
        "owners_10ormore=owners_10ormore.drop_duplicates(subset=['index'])\n",
        "owners_10ormore=list(owners_10ormore['index'])"
      ],
      "execution_count": 18,
      "outputs": [
        {
          "output_type": "execute_result",
          "data": {
            "text/plain": [
              "['AO21QAFMIK124',\n",
              " 'A3EATLL9FW7DJL',\n",
              " 'AQDUE9PHA7QRP',\n",
              " 'A215GPS2IFRI7G',\n",
              " 'A7BTFA87UO4TZ',\n",
              " 'ASCOQL6HNN0OE',\n",
              " 'A39YJK1XG5KFDA',\n",
              " 'A19SHNFST11PNO',\n",
              " 'A1MHPGANXXGLC8',\n",
              " 'A2PVAOS0G22ERX',\n",
              " 'A2D6IKTQ6ET3MC',\n",
              " 'A34KC9EY3ZQ5T8',\n",
              " 'A3B1FQR6HV6H42',\n",
              " 'A13WLZVMT0TKA4',\n",
              " 'ADP33IFGFSL6',\n",
              " 'A15LAJVR0RX15T',\n",
              " 'A265SU6RW4ZAPY',\n",
              " 'A59G70843Q9AI',\n",
              " 'A2EBN8LPMN45UA',\n",
              " 'A3CQ3L2B6MIFJ4',\n",
              " 'AWY308ST6QBNK',\n",
              " 'A1VD0NBDD7YD83',\n",
              " 'A3E57Q7V46X6X2',\n",
              " 'A3NEN8FB3DTTUY',\n",
              " 'A2ZMKE5T8OQRTX',\n",
              " 'A2VPN54YKRUGYW',\n",
              " 'A1T0W8JXB4USYB',\n",
              " 'A2EOHFX3N0D3PN',\n",
              " 'A38QAJSI21WSBZ',\n",
              " 'A15Z0OF1PUK405',\n",
              " 'AYYCQUNL175D1',\n",
              " 'A2IFSHR0Q1N2AQ',\n",
              " 'A2LE9QQY1WZ48O',\n",
              " 'A9SINTLKCQK90',\n",
              " 'A1CU7PD07KWYMG',\n",
              " 'A2V4J1HSCDDW0U',\n",
              " 'A2ZIC3YV7NMK3D',\n",
              " 'A29HZN0M869FUF',\n",
              " 'A3VHXTBI5AJLUC',\n",
              " 'AQC9HSJXMQ9YA',\n",
              " 'A293CWG23K191L',\n",
              " 'A2JPECIQW26LCX',\n",
              " 'A32BY4BXZSITRP',\n",
              " 'A2NF3AZ6GSIBEY',\n",
              " 'A3S28GU71U1QQU',\n",
              " 'A34YRFDBVMO68Y',\n",
              " 'A1L6P9CTC27ZNS',\n",
              " 'A2S21P9G28MK2M',\n",
              " 'A1DE9TVBOVWXP1',\n",
              " 'A2FD0FNAKPYWLQ',\n",
              " 'A3UJRQF8Z39J3S',\n",
              " 'AZQIL47UT2WV5',\n",
              " 'A315XZ2MJJ4SDH',\n",
              " 'AQR6FI9TD1221',\n",
              " 'A128BMPKBECTBG',\n",
              " 'AT6I91UG9HHNG',\n",
              " 'AB89MMEGEUGJK',\n",
              " 'A151AZ87B36FWH',\n",
              " 'AFVB8SDUM2WCN',\n",
              " 'A1Z3SRK0CFE2L2',\n",
              " 'A1KPVRW3QEUOQZ',\n",
              " 'A2J5JJ34V1IET2',\n",
              " 'AGP7H27OX5DHM',\n",
              " 'AIZQIEOCIICLX',\n",
              " 'A1FF7VEV8WAEK6',\n",
              " 'A13NSJL2361BL5',\n",
              " 'A1Z7C36I323OED',\n",
              " 'A36F0NJX0VCRQA',\n",
              " 'AM2GYESLFZ43Q',\n",
              " 'A20LG3BSONGYA',\n",
              " 'A1VBJJQ0M08WAD',\n",
              " 'AKAEKTD4O622E',\n",
              " 'A36E7QW4MV1XO3',\n",
              " 'A30YNUCNJKLMGO',\n",
              " 'AKVA0QC6GV675',\n",
              " 'A1ATWCLAI3X5S3',\n",
              " 'A2HNEY2CVEAT84',\n",
              " 'A1HMKM5OZ25J2D',\n",
              " 'A2WBNJP5EFJYMI',\n",
              " 'A1HZOF4XJ5N4C0',\n",
              " 'A3BW20C60G3UFX',\n",
              " 'A18ATQ3ARJZLKE',\n",
              " 'A3HHJWHYB3T8HI',\n",
              " 'A2CJJIEM1DOFPI',\n",
              " 'A26YWQ67AL26CK',\n",
              " 'A2HMDN9HHJBVJT',\n",
              " 'A7MU0SNVW1NIK',\n",
              " 'A329DICM02W9KU',\n",
              " 'A1OCUKI8ZBUVX3',\n",
              " 'A2WJ05NLICUO1K',\n",
              " 'A2GST35EP5XG4V',\n",
              " 'A2S2JFJU8MMFFU',\n",
              " 'ABEMB3JC5VW00',\n",
              " 'A3QKDVDINXVEWJ',\n",
              " 'A2PT8W7IGEV3OF',\n",
              " 'ALYI0PHU22KGJ',\n",
              " 'A3KGS4GQ2D2F2J',\n",
              " 'A214M2KLIW3M33',\n",
              " 'A1NSKYBVDD5UF9',\n",
              " 'A1LVZPBOYOOP76',\n",
              " 'AGW6BCENXZDZY',\n",
              " 'APTA3KSEUILVA',\n",
              " 'AT6RATFH81KVH',\n",
              " 'A1NHDCTRSWARZG',\n",
              " 'A3T78UW0GJNDKO',\n",
              " 'A2FYOW9ZYDZKFG',\n",
              " 'A1D5LBBY5COAOZ',\n",
              " 'AJORX8PDEWL7W',\n",
              " 'A2YNNCOFYQGODS',\n",
              " 'A2YP5S144H0C2I',\n",
              " 'A2YFQWU26D6N4L',\n",
              " 'AWSRO7PPP06P6',\n",
              " 'AVGIPBSA8MFDU',\n",
              " 'A2WROWUBLQ9GZZ',\n",
              " 'A2CCZG6A48JGL',\n",
              " 'A2ZWREPJCZZPXD',\n",
              " 'A26Q0N062V2ZUR',\n",
              " 'AXLLGNFFMGCY7',\n",
              " 'A10Y0OCRZ7JTF7',\n",
              " 'A26GGSZPMPA18T',\n",
              " 'A2GZ4WL5SUSJ0N',\n",
              " 'A21CRAF27OX36L',\n",
              " 'A1UBU6EFUACQJX',\n",
              " 'AR21KVYIPCEUM',\n",
              " 'A3O0W9SZVY17ZC',\n",
              " 'A1D098MTZUFS6J',\n",
              " 'A1RYA8HGMU7ZWW',\n",
              " 'AULLO1UL67BJ7',\n",
              " 'AXLRGVI3R5JDC',\n",
              " 'A243CQB42ACB06',\n",
              " 'A1GXWFIKOGJ2HZ',\n",
              " 'A2GTHMHEZSJRY6',\n",
              " 'A19PWQW1OH6YZ0',\n",
              " 'A1J9GMJ6YBLQCH',\n",
              " 'AQ5W3VH7O3LGM',\n",
              " 'A3DHHII6VHOACU',\n",
              " 'A2T5P0O707ESH6',\n",
              " 'A140RKTHG3EAZO',\n",
              " 'AMTEXA7BSSHKP',\n",
              " 'A2LFYTX1544TZM',\n",
              " 'AS7H0OCSW79HG',\n",
              " 'A33DNIKKTBRNEN',\n",
              " 'AXS1H22J1821I',\n",
              " 'AHVEAUVZY1A6Y',\n",
              " 'AAZ4NZJI41MY',\n",
              " 'A3VYW47RYSS3HU',\n",
              " 'A2XQT3TV0MYRNJ',\n",
              " 'A3HLHJ1Z0ELDUM',\n",
              " 'A1N7R8GCPF5KL',\n",
              " 'A39B1XKQ20DBA4',\n",
              " 'AOHF3IZJE33W0',\n",
              " 'A3AJLN32IIJJIZ',\n",
              " 'A1Y1RAMLAD5AYZ',\n",
              " 'A3HJ2H9UHPCMJP',\n",
              " 'A3J4XN9YL3VI5N',\n",
              " 'A2R2USHDAZ0UMP',\n",
              " 'A131ZUJW82VP59',\n",
              " 'A3PXT2F87ZOOGE',\n",
              " 'AC14O8CFLBX26',\n",
              " 'A24BHK8SGOULMG',\n",
              " 'A3MUJ5IX9Q5T3U',\n",
              " 'AQGNMMFLND324',\n",
              " 'A2BIKJK1NF86HK',\n",
              " 'A1ZO93FO803OAF',\n",
              " 'A1IOB7AMKVT5DN',\n",
              " 'A15LRHLNXP7JFI',\n",
              " 'AFZBDXS7ZDK0J',\n",
              " 'A3OM730VVIMODQ',\n",
              " 'A1XFJTXA00NYX1',\n",
              " 'A3FZVDVUWZFX4R',\n",
              " 'A3A0DX3Z1SYNR5',\n",
              " 'A33RQ9DETKGJ6T',\n",
              " 'A3N8HGZUB288UD',\n",
              " 'A1906H31QW23JN',\n",
              " 'AWMYR25X2XEC2',\n",
              " 'ARYLHW092C2Y0',\n",
              " 'AOFSHL4O97GQV',\n",
              " 'A3B7X4C8FQKVEX',\n",
              " 'A2YOO8QG992BME',\n",
              " 'A2IGPDIGAEXO9I',\n",
              " 'A7491OAWX3LPQ',\n",
              " 'A2VY08MXXLNFWP',\n",
              " 'A1BSNDPAWH2P2W',\n",
              " 'A2OG9O0XF26S3Y',\n",
              " 'A2MWWGX2QVRJV4',\n",
              " 'AXWEQHTXQWR7Q',\n",
              " 'A74EZTMEYBKKR',\n",
              " 'A1A0VLMS2QQ9AG',\n",
              " 'A2RG5P7MDXOIQ4',\n",
              " 'A1YB1U45TMR75G',\n",
              " 'ATS16QNCM97JF',\n",
              " 'AI08PNDPZV1OA',\n",
              " 'A31RYY8799B0SA',\n",
              " 'A3K2KC82QDZIR4',\n",
              " 'A182VFGL9YR6SZ',\n",
              " 'A2JKCA8QF1NC5R',\n",
              " 'A1FOTIZTQEI6B1',\n",
              " 'A1GBZ35XZ6B95N',\n",
              " 'A1SOJ57RK4P9PQ',\n",
              " 'AKSIPDAY1YN80']"
            ]
          },
          "metadata": {
            "tags": []
          },
          "execution_count": 18
        }
      ]
    },
    {
      "cell_type": "code",
      "metadata": {
        "id": "w2v4wHRF20nV",
        "colab_type": "code",
        "colab": {
          "base_uri": "https://localhost:8080/",
          "height": 34
        },
        "outputId": "d505e436-d38b-4e9e-fdf9-a031c5ee8408"
      },
      "source": [
        "subset_ratings=subset_ratings[subset_ratings.reviewerID.isin(owners_10ormore)]\n",
        "subset_ratings.shape"
      ],
      "execution_count": 19,
      "outputs": [
        {
          "output_type": "execute_result",
          "data": {
            "text/plain": [
              "(2774, 3)"
            ]
          },
          "metadata": {
            "tags": []
          },
          "execution_count": 19
        }
      ]
    },
    {
      "cell_type": "code",
      "metadata": {
        "id": "BILCma7A23b0",
        "colab_type": "code",
        "colab": {}
      },
      "source": [
        "def create_matrix(rating_data, users_column, items_column, ratings_column, threshold=None):\n",
        "    \"\"\"\n",
        "    creates the sparse user-item interaction matrix.\n",
        "    \"\"\"\n",
        "    if threshold is not None:\n",
        "        rating_data = rating_data[rating_data[ratings_column] >= threshold]\n",
        "        rating_data[ratings_column] = 1\n",
        "    \n",
        "    for column in (items_column, users_column, ratings_column):\n",
        "        rating_data[column] = rating_data[column].astype('category')\n",
        "\n",
        "    ratings = csr_matrix((rating_data[ratings_column],\n",
        "                          (rating_data[users_column].cat.codes, rating_data[items_column].cat.codes)))\n",
        "    ratings.eliminate_zeros()\n",
        "    return ratings, rating_data\n"
      ],
      "execution_count": 0,
      "outputs": []
    },
    {
      "cell_type": "code",
      "metadata": {
        "id": "0D38dqy226lB",
        "colab_type": "code",
        "colab": {
          "base_uri": "https://localhost:8080/",
          "height": 218
        },
        "outputId": "fd440534-ec21-4dff-a23b-a68916a67d77"
      },
      "source": [
        "items_column = 'asin'\n",
        "users_column = 'reviewerID'\n",
        "ratings_column = 'overall'\n",
        "threshold = 3\n",
        "X, df = create_matrix(subset_ratings, users_column, items_column, ratings_column, threshold)\n",
        "X\n"
      ],
      "execution_count": 21,
      "outputs": [
        {
          "output_type": "stream",
          "text": [
            "/usr/local/lib/python3.6/dist-packages/ipykernel_launcher.py:37: SettingWithCopyWarning: \n",
            "A value is trying to be set on a copy of a slice from a DataFrame.\n",
            "Try using .loc[row_indexer,col_indexer] = value instead\n",
            "\n",
            "See the caveats in the documentation: https://pandas.pydata.org/pandas-docs/stable/user_guide/indexing.html#returning-a-view-versus-a-copy\n",
            "/usr/local/lib/python3.6/dist-packages/ipykernel_launcher.py:40: SettingWithCopyWarning: \n",
            "A value is trying to be set on a copy of a slice from a DataFrame.\n",
            "Try using .loc[row_indexer,col_indexer] = value instead\n",
            "\n",
            "See the caveats in the documentation: https://pandas.pydata.org/pandas-docs/stable/user_guide/indexing.html#returning-a-view-versus-a-copy\n"
          ],
          "name": "stderr"
        },
        {
          "output_type": "execute_result",
          "data": {
            "text/plain": [
              "<200x1964 sparse matrix of type '<class 'numpy.longlong'>'\n",
              "\twith 2629 stored elements in Compressed Sparse Row format>"
            ]
          },
          "metadata": {
            "tags": []
          },
          "execution_count": 21
        }
      ]
    },
    {
      "cell_type": "code",
      "metadata": {
        "id": "fe577ZCv278K",
        "colab_type": "code",
        "colab": {}
      },
      "source": [
        "def create_train_test(ratings_data, test_size = 0.2, seed = 1234):\n",
        "    assert test_size < 1 and test_size > 0\n",
        "\n",
        "    train_data = ratings_data.copy().todok()\n",
        "    test_data = dok_matrix(train_data.shape)\n",
        "\n",
        "    random_state = np.random.RandomState(seed)\n",
        "    for u in range(ratings_data.shape[0]):\n",
        "        split_index = ratings_data[u].indices\n",
        "        n_splits = ceil(test_size * split_index.shape[0])\n",
        "        test_index = random_state.choice(split_index, size = n_splits, replace = False)\n",
        "        test_data[u, test_index] = ratings_data[u, test_index]\n",
        "        train_data[u, test_index] = 0\n",
        "    \n",
        "    train_data, test_data = train_data.tocsr(), test.tocsr()\n",
        "    return train_data, test_data"
      ],
      "execution_count": 0,
      "outputs": []
    },
    {
      "cell_type": "code",
      "metadata": {
        "id": "5RjBCevi2-32",
        "colab_type": "code",
        "colab": {
          "base_uri": "https://localhost:8080/",
          "height": 874
        },
        "outputId": "1bf87ec4-6720-40c1-d80e-53b0cd6a0084"
      },
      "source": [
        "X_train, X_test = create_train_test(X, test_size = 0.2, seed = 1234)\n",
        "print(X_train)"
      ],
      "execution_count": 23,
      "outputs": [
        {
          "output_type": "stream",
          "text": [
            "  (0, 306)\t1\n",
            "  (0, 357)\t1\n",
            "  (0, 484)\t1\n",
            "  (0, 622)\t1\n",
            "  (0, 930)\t1\n",
            "  (0, 1069)\t1\n",
            "  (0, 1301)\t1\n",
            "  (0, 1320)\t1\n",
            "  (1, 152)\t1\n",
            "  (1, 154)\t1\n",
            "  (1, 243)\t1\n",
            "  (1, 244)\t1\n",
            "  (1, 370)\t1\n",
            "  (1, 428)\t1\n",
            "  (1, 590)\t1\n",
            "  (1, 1118)\t1\n",
            "  (1, 1227)\t1\n",
            "  (1, 1322)\t1\n",
            "  (1, 1366)\t1\n",
            "  (2, 59)\t1\n",
            "  (2, 321)\t1\n",
            "  (2, 730)\t1\n",
            "  (2, 818)\t1\n",
            "  (2, 1263)\t1\n",
            "  (2, 1360)\t1\n",
            "  :\t:\n",
            "  (197, 80)\t1\n",
            "  (197, 206)\t1\n",
            "  (197, 395)\t1\n",
            "  (197, 582)\t1\n",
            "  (197, 1138)\t1\n",
            "  (197, 1434)\t1\n",
            "  (198, 72)\t1\n",
            "  (198, 215)\t1\n",
            "  (198, 466)\t1\n",
            "  (198, 610)\t1\n",
            "  (198, 724)\t1\n",
            "  (198, 919)\t1\n",
            "  (198, 1192)\t1\n",
            "  (198, 1704)\t1\n",
            "  (199, 90)\t1\n",
            "  (199, 93)\t1\n",
            "  (199, 94)\t1\n",
            "  (199, 205)\t1\n",
            "  (199, 279)\t1\n",
            "  (199, 324)\t1\n",
            "  (199, 940)\t1\n",
            "  (199, 1048)\t1\n",
            "  (199, 1122)\t1\n",
            "  (199, 1139)\t1\n",
            "  (199, 1735)\t1\n"
          ],
          "name": "stdout"
        }
      ]
    },
    {
      "cell_type": "code",
      "metadata": {
        "id": "iWv4MPxY3AKR",
        "colab_type": "code",
        "colab": {}
      },
      "source": [
        "class BPR:\n",
        "\n",
        "    def __init__(self, learning_rate = 0.01, n_factors = 15, no_of_iterations = 10, \n",
        "                 batch_size = 1000, reg = 0.01, seed = 1234):\n",
        "        \n",
        "        self.reg = reg\n",
        "        self.seed = seed\n",
        "        self.no_of_iterations = no_of_iterations\n",
        "        self.n_factors = n_factors\n",
        "        self.batch_size = batch_size\n",
        "        self.learning_rate = learning_rate\n",
        "        self._prediction = None\n",
        "        \n",
        "    def fit(self, ratings):\n",
        "\n",
        "        indptr = ratings.indptr\n",
        "        indices = ratings.indices\n",
        "        no_of_users, no_of_items = ratings.shape\n",
        "        \n",
        "        batch_size = self.batch_size\n",
        "        if no_of_users < batch_size:\n",
        "            batch_size = no_of_users\n",
        "            sys.stderr.write('WARNING: Batch size is greater than number of users, switching to a batch size of {}\\n'.format(no_of_users))\n",
        "\n",
        "        no_of_iterations = no_of_users // batch_size\n",
        "        \n",
        "        random_state = np.random.RandomState(self.seed)\n",
        "        self.user_factors = random_state.normal(size = (no_of_users, self.n_factors))\n",
        "        self.item_factors = random_state.normal(size = (no_of_items, self.n_factors))\n",
        "        \n",
        "        loop = range(self.no_of_iterations)\n",
        "        \n",
        "        for _ in loop:\n",
        "            for _ in range(no_of_iterations):\n",
        "                sampled_users, sampled_positive_items, sampled_negative_items = self._sample(no_of_users, no_of_items, indices, indptr)\n",
        "                self._update(sampled_users, sampled_positive_items, sampled_negative_items)\n",
        "\n",
        "        return self\n",
        "    \n",
        "    def _sample(self, no_of_users, no_of_items, indices, indptr):\n",
        "        \n",
        "        sampled_positive_items = np.zeros(self.batch_size, dtype = np.int)\n",
        "        sampled_negative_items = np.zeros(self.batch_size, dtype = np.int)\n",
        "        sampled_users = np.random.choice(no_of_users, size = self.batch_size, replace = False)\n",
        "\n",
        "        for idx, user in enumerate(sampled_users):\n",
        "            pos_items = indices[indptr[user]:indptr[user + 1]]\n",
        "            if not pos_items.any():\n",
        "              continue\n",
        "\n",
        "            pos_item = np.random.choice(pos_items)\n",
        "            neg_item = np.random.choice(no_of_items)\n",
        "            while neg_item in pos_items:\n",
        "                neg_item = np.random.choice(no_of_items)\n",
        "\n",
        "            sampled_positive_items[idx] = pos_item\n",
        "            sampled_negative_items[idx] = neg_item\n",
        "\n",
        "        return sampled_users, sampled_positive_items, sampled_negative_items\n",
        "                \n",
        "    def _update(self, u, i, j):\n",
        "\n",
        "        user_u = self.user_factors[u]\n",
        "        item_i = self.item_factors[i]\n",
        "        item_j = self.item_factors[j]\n",
        "        \n",
        "        r_uij = np.sum(user_u * (item_i - item_j), axis = 1)\n",
        "        sigmoid = np.exp(-r_uij) / (1.0 + np.exp(-r_uij))\n",
        "        \n",
        "        sigmoid_tiled = np.tile(sigmoid, (self.n_factors, 1)).T\n",
        "        grad_u = sigmoid_tiled * (item_j - item_i) + self.reg * user_u\n",
        "        grad_i = sigmoid_tiled * -user_u + self.reg * item_i\n",
        "        grad_j = sigmoid_tiled * user_u + self.reg * item_j\n",
        "        self.user_factors[u] -= self.learning_rate * grad_u\n",
        "        self.item_factors[i] -= self.learning_rate * grad_i\n",
        "        self.item_factors[j] -= self.learning_rate * grad_j\n",
        "        return self\n",
        "\n",
        "    def predict(self):\n",
        "\n",
        "        if self._prediction is None:\n",
        "            self._prediction = self.user_factors.dot(self.item_factors.T)\n",
        "\n",
        "        return self._prediction\n",
        "\n",
        "    def _predict_user(self, user):\n",
        "        \n",
        "        user_pred = self.user_factors[user].dot(self.item_factors.T)\n",
        "        return user_pred\n",
        "\n",
        "    def recommend(self, ratings, N = 5):\n",
        "\n",
        "        no_of_users = ratings.shape[0]\n",
        "        recommendation = np.zeros((no_of_users, N), dtype = np.uint32)\n",
        "        for user in range(no_of_users):\n",
        "            top_n = self._recommend_user(ratings, user, N)\n",
        "            recommendation[user] = top_n\n",
        "\n",
        "        return recommendation\n",
        "\n",
        "    def _recommend_user(self, ratings, user, N):\n",
        "\n",
        "        scores = self._predict_user(user)\n",
        "        liked = set(ratings[user].indices)\n",
        "        count = N + len(liked)\n",
        "        if count < scores.shape[0]:\n",
        "            ids = np.argpartition(scores, -count)[-count:]\n",
        "            best_ids = np.argsort(scores[ids])[::-1]\n",
        "            best = ids[best_ids]\n",
        "        else:\n",
        "            best = np.argsort(scores)[::-1]\n",
        "\n",
        "        top_n = list(islice((rec for rec in best if rec not in liked), N))\n",
        "        return top_n\n",
        "    \n",
        "    def get_similar_items(self, N = 5, item_ids = None):\n",
        "\n",
        "        normed_factors = normalize(self.item_factors)\n",
        "        knn = NearestNeighbors(n_neighbors = N + 1, metric = 'euclidean')\n",
        "        knn.fit(normed_factors)\n",
        "\n",
        "        if item_ids is not None:\n",
        "            normed_factors = normed_factors[item_ids]\n",
        "\n",
        "        _, items = knn.kneighbors(normed_factors)\n",
        "        similar_items = items[:, 1:].astype(np.uint32)\n",
        "        return similar_items"
      ],
      "execution_count": 0,
      "outputs": []
    },
    {
      "cell_type": "code",
      "metadata": {
        "id": "la1ptevh3Blm",
        "colab_type": "code",
        "colab": {
          "base_uri": "https://localhost:8080/",
          "height": 1000
        },
        "outputId": "66b2a3db-50f6-4dab-afcb-3a6d6d5d2ac0"
      },
      "source": [
        "bpr_params = {'reg': 0.01,\n",
        "              'learning_rate': 0.1,\n",
        "              'no_of_iterations': 50,\n",
        "              'n_factors': 15,\n",
        "              'batch_size': 20}\n",
        "\n",
        "bpr = BPR(**bpr_params)\n",
        "bpr.fit(X_train)"
      ],
      "execution_count": 25,
      "outputs": [
        {
          "output_type": "stream",
          "text": [
            "BPR:  36%|███▌      | 18/50 [00:00<00:00, 179.65it/s]"
          ],
          "name": "stderr"
        },
        {
          "output_type": "stream",
          "text": [
            "Ratings    (0, 306)\t1\n",
            "  (0, 357)\t1\n",
            "  (0, 484)\t1\n",
            "  (0, 622)\t1\n",
            "  (0, 930)\t1\n",
            "  (0, 1069)\t1\n",
            "  (0, 1301)\t1\n",
            "  (0, 1320)\t1\n",
            "  (1, 152)\t1\n",
            "  (1, 154)\t1\n",
            "  (1, 243)\t1\n",
            "  (1, 244)\t1\n",
            "  (1, 370)\t1\n",
            "  (1, 428)\t1\n",
            "  (1, 590)\t1\n",
            "  (1, 1118)\t1\n",
            "  (1, 1227)\t1\n",
            "  (1, 1322)\t1\n",
            "  (1, 1366)\t1\n",
            "  (2, 59)\t1\n",
            "  (2, 321)\t1\n",
            "  (2, 730)\t1\n",
            "  (2, 818)\t1\n",
            "  (2, 1263)\t1\n",
            "  (2, 1360)\t1\n",
            "  :\t:\n",
            "  (197, 80)\t1\n",
            "  (197, 206)\t1\n",
            "  (197, 395)\t1\n",
            "  (197, 582)\t1\n",
            "  (197, 1138)\t1\n",
            "  (197, 1434)\t1\n",
            "  (198, 72)\t1\n",
            "  (198, 215)\t1\n",
            "  (198, 466)\t1\n",
            "  (198, 610)\t1\n",
            "  (198, 724)\t1\n",
            "  (198, 919)\t1\n",
            "  (198, 1192)\t1\n",
            "  (198, 1704)\t1\n",
            "  (199, 90)\t1\n",
            "  (199, 93)\t1\n",
            "  (199, 94)\t1\n",
            "  (199, 205)\t1\n",
            "  (199, 279)\t1\n",
            "  (199, 324)\t1\n",
            "  (199, 940)\t1\n",
            "  (199, 1048)\t1\n",
            "  (199, 1122)\t1\n",
            "  (199, 1139)\t1\n",
            "  (199, 1735)\t1\n",
            "---------------------\n",
            "Loop  BPR:   0%|          | 0/50 [00:00<?, ?it/s]\n",
            "200 1964 [ 306  357  484 ... 1122 1139 1735] [   0    8   19   27   38   55   61   72   88   96  110  118  126  134\n",
            "  142  162  170  180  188  201  209  218  230  241  249  257  265  275\n",
            "  285  293  301  311  323  327  338  346  353  362  371  379  387  399\n",
            "  407  417  432  440  448  456  467  477  485  495  504  528  536  544\n",
            "  552  567  574  582  591  603  616  624  633  642  662  678  691  703\n",
            "  711  719  727  734  743  752  766  774  784  790  802  814  822  830\n",
            "  842  850  859  877  884  892  904  912  920  933  948  956  965  974\n",
            "  983  991 1000 1008 1015 1024 1037 1048 1056 1066 1078 1086 1094 1106\n",
            " 1111 1119 1137 1149 1159 1169 1183 1191 1211 1216 1224 1240 1247 1255\n",
            " 1268 1276 1286 1317 1325 1335 1342 1349 1355 1359 1368 1376 1384 1400\n",
            " 1408 1416 1424 1432 1444 1453 1465 1473 1481 1497 1504 1510 1534 1543\n",
            " 1556 1561 1572 1581 1589 1605 1615 1622 1632 1639 1647 1655 1666 1675\n",
            " 1685 1693 1703 1712 1722 1730 1775 1783 1791 1798 1806 1818 1845 1853\n",
            " 1863 1870 1878 1886 1909 1920 1929 1936 1944 1953 1960 1969 1983 1991\n",
            " 1999 2007 2014 2022 2033]\n"
          ],
          "name": "stdout"
        },
        {
          "output_type": "stream",
          "text": [
            "BPR: 100%|██████████| 50/50 [00:00<00:00, 167.39it/s]\n"
          ],
          "name": "stderr"
        },
        {
          "output_type": "execute_result",
          "data": {
            "text/plain": [
              "<__main__.BPR at 0x7f59d5071b00>"
            ]
          },
          "metadata": {
            "tags": []
          },
          "execution_count": 25
        }
      ]
    },
    {
      "cell_type": "code",
      "metadata": {
        "id": "9X8RLwPX3DAR",
        "colab_type": "code",
        "colab": {}
      },
      "source": [
        "def auc_score(model, ratings):\n",
        "\n",
        "    auc = 0.0\n",
        "    no_of_users, no_of_items = ratings.shape\n",
        "    for user, row in enumerate(ratings):\n",
        "        y_pred = model._predict_user(user)\n",
        "        y_true = np.zeros(no_of_items)\n",
        "        y_true[row.indices] = 1\n",
        "        auc += roc_auc_score(y_true, y_pred)\n",
        "\n",
        "    auc /= no_of_users\n",
        "    return auc"
      ],
      "execution_count": 0,
      "outputs": []
    },
    {
      "cell_type": "code",
      "metadata": {
        "id": "xCijUSap3Eq0",
        "colab_type": "code",
        "colab": {
          "base_uri": "https://localhost:8080/",
          "height": 50
        },
        "outputId": "09434a41-fc26-43f2-f570-81942f73139a"
      },
      "source": [
        "print(auc_score(bpr, X_train))\n",
        "print(auc_score(bpr, X_test))"
      ],
      "execution_count": 27,
      "outputs": [
        {
          "output_type": "stream",
          "text": [
            "0.8148883142438771\n",
            "0.5213257226387825\n"
          ],
          "name": "stdout"
        }
      ]
    },
    {
      "cell_type": "code",
      "metadata": {
        "id": "ZGddP9JK3GVK",
        "colab_type": "code",
        "colab": {}
      },
      "source": [
        "ans = bpr.get_similar_items(N = 10)"
      ],
      "execution_count": 0,
      "outputs": []
    },
    {
      "cell_type": "code",
      "metadata": {
        "id": "paSEWXY23IsM",
        "colab_type": "code",
        "colab": {}
      },
      "source": [
        "asin_codes = df[\"asin\"].cat.codes\n",
        "user_codes = df[\"reviewerID\"].cat.codes"
      ],
      "execution_count": 0,
      "outputs": []
    },
    {
      "cell_type": "code",
      "metadata": {
        "id": "U9Ajy-vC3KoN",
        "colab_type": "code",
        "colab": {}
      },
      "source": [
        "\n",
        "item_rmc = {}\n",
        "for index, value in enumerate(ans):\n",
        "  key_item = asin_codes[asin_codes == index].index.tolist()\n",
        "  if not key_item:\n",
        "    continue\n",
        "  key_item = key_item[0]\n",
        "  key_item = df.loc[[key_item]]\n",
        "\n",
        "  key = key_item[\"asin\"].values[0]\n",
        "  rcm = []\n",
        "  for item in value:\n",
        "      item_value = asin_codes[asin_codes == item].index.tolist()\n",
        "      if not item_value:\n",
        "        continue\n",
        "\n",
        "      item_value = item_value[0]\n",
        "      item_value = df.loc[[item_value]]\n",
        "      rcm.append(item_value.asin.values[0])\n",
        "  item_rmc[key] = rcm"
      ],
      "execution_count": 0,
      "outputs": []
    },
    {
      "cell_type": "code",
      "metadata": {
        "id": "1-cwxVO83MRM",
        "colab_type": "code",
        "colab": {}
      },
      "source": [
        "ans_user = bpr.recommend(X_train, N=10)"
      ],
      "execution_count": 0,
      "outputs": []
    },
    {
      "cell_type": "code",
      "metadata": {
        "id": "3C3dbPKi3QoA",
        "colab_type": "code",
        "colab": {}
      },
      "source": [
        "\n",
        "user_rmc = {}\n",
        "for index, value in enumerate(ans_user):\n",
        "  key_item = asin_codes[user_codes == index].index.tolist()\n",
        "  if not key_item:\n",
        "    continue\n",
        "  key_item = key_item[0]\n",
        "  key_item = df.loc[[key_item]]\n",
        "\n",
        "  key = key_item[\"reviewerID\"].values[0]\n",
        "  rcm = []\n",
        "  for item in value:\n",
        "      item_value = asin_codes[asin_codes == item].index.tolist()\n",
        "      if not item_value:\n",
        "        continue\n",
        "\n",
        "      item_value = item_value[0]\n",
        "      item_value = df.loc[[item_value]]\n",
        "      rcm.append(item_value.asin.values[0])\n",
        "  user_rmc[key] = rcm"
      ],
      "execution_count": 0,
      "outputs": []
    },
    {
      "cell_type": "code",
      "metadata": {
        "id": "1HqtfgT63R63",
        "colab_type": "code",
        "colab": {}
      },
      "source": [
        ""
      ],
      "execution_count": 0,
      "outputs": []
    }
  ]
}